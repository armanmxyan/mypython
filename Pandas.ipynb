{
 "cells": [
  {
   "cell_type": "code",
   "execution_count": 79,
   "metadata": {
    "id": "irJOuVWENWDP"
   },
   "outputs": [
    {
     "name": "stdout",
     "output_type": "stream",
     "text": [
      "Requirement already satisfied: scikit-learn in /home/arman/jup_note/project_env/lib/python3.10/site-packages (1.2.0)\r\n",
      "Requirement already satisfied: numpy>=1.17.3 in /home/arman/jup_note/project_env/lib/python3.10/site-packages (from scikit-learn) (1.24.1)\r\n",
      "Requirement already satisfied: threadpoolctl>=2.0.0 in /home/arman/jup_note/project_env/lib/python3.10/site-packages (from scikit-learn) (3.1.0)\r\n",
      "Requirement already satisfied: joblib>=1.1.1 in /home/arman/jup_note/project_env/lib/python3.10/site-packages (from scikit-learn) (1.2.0)\r\n",
      "Requirement already satisfied: scipy>=1.3.2 in /home/arman/jup_note/project_env/lib/python3.10/site-packages (from scikit-learn) (1.10.0)\r\n"
     ]
    }
   ],
   "source": [
    "#!pip3 install pandas\n",
    "#!pip3 install sklearn\n",
    "#!pip3 install scikit-learn\n",
    "import numpy as np\n",
    "import pandas as pd"
   ]
  },
  {
   "cell_type": "markdown",
   "metadata": {
    "id": "GCEodKTbRd_r"
   },
   "source": [
    "# Homework Exercises"
   ]
  },
  {
   "cell_type": "markdown",
   "metadata": {
    "id": "1WbPDB3mI7MO"
   },
   "source": [
    "Problem1. Տրված են՝ \n",
    "\n",
    "data $\\rightarrow$ numpy մատրից $150 \\times 4$ չափի\n",
    "\n",
    "feature_names $\\rightarrow$ string-երի list 4 էլեմենտներով\n",
    "\n",
    "target $\\rightarrow$ numpy վեկտոր $150$ չափի\n",
    "\n",
    "target_names $\\rightarrow$ string-երի list 3 էլեմենտներով\n",
    "\n",
    "փոփոխականները (որոնք ստեղծված են վերևում)։ Պահանջվում է ստեղծել pandas DataFrame որը կունենա 5 սյուն և 150 տող։ Առաջին 4 սյուներում գրված կլինի 'data' փոփոխականի պարունակությունը։ Իսկ հինգերորդ սյան մեջ կլինի 'target'-ը, բայց ամեն թվի փոխարեն գրված 'target_names'-ի համապատասխան ինդեքսով տարրը։ Առաջին 4 սյուների անունները կլինեն  'feature_names'-ի էլեմենտները (տրված հերթականությամբ), իսկ հինգերորդի անունը կլինի \"target name\": \n",
    "\n",
    "Վերջնական DataFrame-ի առաջին 5 տողերը կունենան հետևյալ տեսքը՝\n",
    "```\n",
    "\tsepal length (cm)\tsepal width (cm)\tpetal length (cm)\tpetal width (cm)\ttarget name\n",
    "0\t     5.1             \t3.5\t                1.4\t           0.2\t          setosa\n",
    "1\t     4.9            \t 3.0                \t1.4           \t0.2\t          setosa\n",
    "2\t     4.7             \t3.2                \t1.3           \t0.2\t          setosa\n",
    "3\t     4.6\t             3.1                \t1.5           \t0.2\t          setosa\n",
    "4\t     5.0             \t3.6                \t1.4           \t0.2\t          setosa\n",
    "```\n",
    "\n",
    "**Ստացված DataFrame֊ը օգտագործվելու է հաջորդ խնդիրներում**։\n"
   ]
  },
  {
   "cell_type": "code",
   "execution_count": 48,
   "metadata": {
    "colab": {
     "base_uri": "https://localhost:8080/"
    },
    "executionInfo": {
     "elapsed": 882,
     "status": "ok",
     "timestamp": 1662378433237,
     "user": {
      "displayName": "19 91",
      "userId": "03770909112941049361"
     },
     "user_tz": -240
    },
    "id": "cTN0Ve60jEqT",
    "outputId": "ad97a245-0992-40f0-c22c-589964b62863"
   },
   "outputs": [],
   "source": [
    "# Run this cell\n",
    "# Do not modify this cell\n",
    "from sklearn.datasets import load_iris\n",
    "iris = load_iris()\n",
    "\n",
    "data = iris['data']\n",
    "feature_names = iris['feature_names']\n",
    "target = iris['target']\n",
    "target_names = iris['target_names']\n",
    "\n",
    "# print('First 5 rows:', data[:5], sep='\\n', end='\\n\\n')\n",
    "# print('Feature names:', feature_names, sep='\\n', end='\\n\\n')\n",
    "# print('Target indices:', target, sep='\\n', end='\\n\\n')\n",
    "# print('Target names:', target_names, sep='\\n')"
   ]
  },
  {
   "cell_type": "code",
   "execution_count": 57,
   "metadata": {
    "id": "RQZQyi8cO2Cc"
   },
   "outputs": [],
   "source": [
    "def get_data_frame(data, feature_names, target, target_names):\n",
    "  #Your code here\n",
    "\n",
    "    \n",
    "    df=pd.DataFrame(data=data,columns=feature_names) \n",
    "    #print(df)\n",
    "    df['target name']=target\n",
    "    df['target name']=df['target name'].apply(func)\n",
    "    #print (df)\n",
    "    return df   \n",
    "\n",
    "def func(n):\n",
    "        if n==0:return \"setosa\"\n",
    "        if n==1:return \"versicolor\" \n",
    "        if n==2:return \"virginica\""
   ]
  },
  {
   "cell_type": "code",
   "execution_count": 58,
   "metadata": {
    "id": "12GdukjGO2HJ",
    "scrolled": true
   },
   "outputs": [],
   "source": [
    "# Do not modify this cell\n",
    "df = get_data_frame(data, feature_names, target, target_names)\n",
    "\n",
    "assert isinstance(df, pd.DataFrame)\n",
    "assert df.shape == (150, 5)\n",
    "assert np.all(df.loc[[0, 75, 120], 'target name'].values == target_names)"
   ]
  },
  {
   "cell_type": "markdown",
   "metadata": {
    "id": "IqlAUvbTO2Lo"
   },
   "source": [
    "Նախորդ խնդրում ստացված ``df`` աղյուսակի մեջ գրված է ծաղիկների թերթիկների (պսակաթերթի և բաժակաթերթի) երկարությունն ու լայնությունը և համապատասխան ծաղիկի համարը։ {'setosa', 'versicolor', 'virginica'} տեսակները կոդավորված են {0,1,2} թվերով։\n",
    "\n",
    "![picture](https://encrypted-tbn0.gstatic.com/images?q=tbn%3AANd9GcRaU43Ra3xTYTpU2XLBw5yl20Qty3OCJzjDBw&usqp=CAU)\n",
    "\n",
    "Problem2. Գտեք յուրաքանչուր ծաղկատեսակի թերթիկի (պսակաթերթ և բաժակաթերթ)\n",
    "\n",
    "1. միջին երկարությունը\n",
    "2. միջին լայնությունը\n",
    "3. նվազագույն երկարությունը\n",
    "4. նվազագույն լայնությունը\n",
    "5. առավելագույն երկարությունը\n",
    "6. առավելագույն լայնությունը\n",
    "\n",
    "Այս ամենը լցրեք pandas DataFrame-ի մեջ որը ունի հետևյալ սյուները` \n",
    "```python\n",
    "[\"mean sepal length (cm)\", \"mean petal length (cm)\", \"mean sepal width (cm)\", \"mean petal width (cm)\", \"min sepal length (cm)\", \"min petal length (cm)\", \"min sepal width (cm)\", \"min petal width (cm)\", \"max sepal length (cm)\", \"max petal length (cm)\", \"max sepal width (cm)\", \"max petal width (cm)\"]\n",
    "```\n",
    "և \"target name\" ինդեքսը։ Խորհուրդ է տրվում օգտագործել ``pd.group_by`` ֆունկցիան։"
   ]
  },
  {
   "cell_type": "code",
   "execution_count": null,
   "metadata": {
    "id": "w1CPhDsrfT7N"
   },
   "outputs": [],
   "source": [
    "columns = [\"mean sepal length (cm)\", \"mean petal length (cm)\", \"mean sepal width (cm)\", \"mean petal width (cm)\", \"min sepal length (cm)\", \"min petal length (cm)\", \"min sepal width (cm)\", \"min petal width (cm)\", \"max sepal length (cm)\", \"max petal length (cm)\", \"max sepal width (cm)\", \"max petal width (cm)\"]"
   ]
  },
  {
   "cell_type": "code",
   "execution_count": 61,
   "metadata": {
    "id": "eVIqC81LO2QW"
   },
   "outputs": [],
   "source": [
    "def get_stats(df):\n",
    "  # your code here\n",
    "    columns = [\"mean sepal length (cm)\", \"mean petal length (cm)\", \"mean sepal width (cm)\", \"mean petal width (cm)\", \"min sepal length (cm)\", \"min petal length (cm)\", \"min sepal width (cm)\", \"min petal width (cm)\", \"max sepal length (cm)\", \"max petal length (cm)\", \"max sepal width (cm)\", \"max petal width (cm)\"]\n",
    "    df_re=df.reindex(columns=['sepal length (cm)','petal length (cm)','sepal width (cm)','petal width (cm)','target name'])\n",
    "    x=df_re.groupby(['target name']).mean()\n",
    "    y=df_re.groupby(['target name']).min()\n",
    "    z=df_re.groupby(['target name']).max()\n",
    "    df1=pd.concat([x,y,z],axis=1)\n",
    "    df1.columns=columns\n",
    "    #print(df1)\n",
    "    return df1"
   ]
  },
  {
   "cell_type": "code",
   "execution_count": 62,
   "metadata": {
    "id": "tnLzQbGrO2U1"
   },
   "outputs": [],
   "source": [
    "# Do not modify this cell\n",
    "df_stats = get_stats(df)\n",
    "assert df_stats.shape == (3, 12)\n",
    "assert all(df_stats.index.to_list() == target_names)\n",
    "assert np.allclose(df_stats.loc[:, \"mean sepal length (cm)\"].values,\n",
    "            np.array([5.006, 5.936, 6.588]))\n",
    "assert np.allclose(df_stats.loc[:, \"min petal width (cm)\"].values,\n",
    "            np.array([0.1, 1.0, 1.4]))\n",
    "assert np.allclose(df_stats.loc[:, \"max petal length (cm)\"].values,\n",
    "            np.array([1.9, 5.1, 6.9]))"
   ]
  },
  {
   "cell_type": "markdown",
   "metadata": {
    "id": "cd7-trlHcXxd"
   },
   "source": [
    "Problem3. ``df`` աղյուսակից ջնջեք այն տողերը, որոնց 'sepal width'-ը փոքր է իր տեսակի միջինից (օգտվելով նախորդ խնդրի հաշվարկներից ``df_stats``)։ Փոփոխությունը կատարեք ``df``-ի վրա և ֆունկցիայով ոչինչ մի վերադարձրեք։"
   ]
  },
  {
   "cell_type": "code",
   "execution_count": 76,
   "metadata": {
    "id": "17ayVp5WcX1g"
   },
   "outputs": [],
   "source": [
    "def remove_small_flowers(df, df_stats):\n",
    "    \n",
    "    x=df_stats[\"mean sepal width (cm)\"][0]\n",
    "    y=df_stats[\"mean sepal width (cm)\"][1]\n",
    "    z=df_stats[\"mean sepal width (cm)\"][2]\n",
    "    #print(df1)\n",
    "    df.drop(df [(df['sepal width (cm)'] < x) & (df['target name']=='setosa')].index  , inplace = True)\n",
    "    df.drop(df [(df['sepal width (cm)'] <y) & (df['target name']=='versicolor')].index  , inplace = True)\n",
    "    df.drop(df [(df['sepal width (cm)'] <z) & (df['target name']=='virginica')].index  , inplace = True)\n",
    "    "
   ]
  },
  {
   "cell_type": "code",
   "execution_count": 75,
   "metadata": {
    "id": "cLg_LROYlRNd"
   },
   "outputs": [],
   "source": [
    "# Do not modify this cell\n",
    "assert remove_small_flowers(df, df_stats) is None\n",
    "assert df.shape == (80, 5)\n",
    "assert (df[['petal length (cm)']].min() == 1.0)[0]\n",
    "assert (df[['petal length (cm)']].max() == 6.7)[0]"
   ]
  },
  {
   "cell_type": "markdown",
   "metadata": {
    "id": "og_NOaWMcX9j"
   },
   "source": [
    "Ստորև վանդակն աշխատացնելով ներմուծիր Բոստոն $506\\times13$  չափանի տվյալների բազմությունը, որն իր մեջ պարունակում է Բոստոնի 506 թաղամասերի վերաբերյալ տվյալներ՝ 13 բնութագրիչներով։ Այդ բնութագրիչներն են՝\n",
    "\n",
    "(\"ԱՆՈՒՆ բացատրություն\" ֆորմատով)\n",
    "1. CRIM per capita crime rate by town\n",
    "2. ZN proportion of residential land zoned for lots over 25,000 sq.ft.\n",
    "3. INDUS proportion of non-retail business acres per town\n",
    "4. CHAS Charles River dummy variable (= 1 if tract bounds river; 0 otherwise)\n",
    "5. NOX nitric oxides concentration (parts per 10 million)\n",
    "6. RM average number of rooms per dwelling\n",
    "7. AGE proportion of owner-occupied units built prior to 1940\n",
    "8. DIS weighted distances to five Boston employment centres\n",
    "9. RAD index of accessibility to radial highways\n",
    "10. TAX full-value property-tax rate per $10,000\n",
    "11. PTRATIO pupil-teacher ratio by town\n",
    "12. B 1000(Bk - 0.63)^2 where Bk is the proportion of blacks by town\n",
    "13. LSTAT % lower status of the population\n",
    "\n",
    "\n",
    "Իսկ *y փոփոխականը* 506 երկարությամբ numpy վեկտոր է, որը իրենից ներկայացնում է համապատասխան թաղամասերի տների մեդիան գինը (չափման միավորը՝ $1000)։\n",
    "\n",
    "Problem4. Ստեղծեք dataframe X, y  փոփոխականների հիման վրա (Problem 1.-ի նման)։ Բնութագրիչ սյուների անունները սահմանեք ըստ վերը նշված ցանկիժ, իսկ վերջին սյան անունը՝  \"MEDV\"։"
   ]
  },
  {
   "cell_type": "code",
   "execution_count": 547,
   "metadata": {
    "colab": {
     "base_uri": "https://localhost:8080/"
    },
    "executionInfo": {
     "elapsed": 330,
     "status": "ok",
     "timestamp": 1662379118190,
     "user": {
      "displayName": "19 91",
      "userId": "03770909112941049361"
     },
     "user_tz": -240
    },
    "id": "KB01YhiPcYBl",
    "outputId": "20fc8a9e-385a-4c7d-c7af-29cf41b6e9be",
    "scrolled": true
   },
   "outputs": [],
   "source": [
    "#Do not modify this cell\n",
    "# from sklearn.datasets import load_boston\n",
    "# X, y = load_boston(return_X_y=True)\n",
    "# print(X.shape)\n",
    "\n",
    "data_url = \"http://lib.stat.cmu.edu/datasets/boston\"\n",
    "raw_df = pd.read_csv(data_url, sep=\"\\s+\", skiprows=22, header=None)\n",
    "data = np.hstack([raw_df.values[::2, :], raw_df.values[1::2, :2]])\n",
    "target = raw_df.values[1::2, 2]\n",
    "\n",
    "# col=['CRIM','ZN','INDUS','CHAS','NOX','RM','AGE','DIS','RAD','TAX','PTRATIO','B','LSTAT']\n",
    "# df=pd.DataFrame(data=data,columns=col)\n",
    "# df['medv']=target\n",
    "# df\n",
    "X=data\n",
    "y=target"
   ]
  },
  {
   "cell_type": "code",
   "execution_count": 548,
   "metadata": {
    "id": "xLHAeDFlcYJP"
   },
   "outputs": [],
   "source": [
    "def get_data_frame(X, y):\n",
    "  #Your code here\n",
    "    col=['CRIM','ZN','INDUS','CHAS','NOX','RM','AGE','DIS','RAD','TAX','PTRATIO','B','LSTAT']\n",
    "    df=pd.DataFrame(data=X,columns=col)\n",
    "    df['MEDV']=y\n",
    "    return df"
   ]
  },
  {
   "cell_type": "code",
   "execution_count": 549,
   "metadata": {
    "id": "5XaR_teLcYNd"
   },
   "outputs": [],
   "source": [
    "# Do not modify this cell\n",
    "df = get_data_frame(X,y)\n",
    "\n",
    "assert isinstance(df, pd.DataFrame)\n",
    "assert df.shape == (506, 14)\n",
    "assert df.columns.tolist()[:3] == ['CRIM','ZN','INDUS']\n",
    "assert df.columns[-1] == 'MEDV'"
   ]
  },
  {
   "cell_type": "markdown",
   "metadata": {
    "id": "lLXQ1Ai4cYSL"
   },
   "source": [
    "Problem5. Վերադարձնել 3 \"ամենաէժան թաղամասերի\" տողերը, որտեղ CRIM-ը մեծ է 0.5֊ից։"
   ]
  },
  {
   "cell_type": "code",
   "execution_count": 550,
   "metadata": {
    "id": "PAIxZEaapnQe"
   },
   "outputs": [],
   "source": [
    "def three_less_expensive(df):\n",
    "    df1=df[df['CRIM']>0.5]\n",
    "    \n",
    "    return df1.sort_values(by=['MEDV'])[0:3]"
   ]
  },
  {
   "cell_type": "code",
   "execution_count": 551,
   "metadata": {
    "id": "KY6omfGLpnUY"
   },
   "outputs": [],
   "source": [
    "# Do not modify this cell\n",
    "top3 = three_less_expensive(df)\n",
    "assert top3.MEDV.mean() == 5.2  \n",
    "assert top3.INDUS.mean() == 18.1 \n",
    "assert top3.TAX.mean() == 666.0 "
   ]
  },
  {
   "cell_type": "markdown",
   "metadata": {
    "id": "hKO58_mpt83g"
   },
   "source": [
    "Problem6. Վերադարձնել 6 \"ամենաթանկ թաղամասերի\" տողերը, որոնք գտնվում են Չարլզ գետի ափին։"
   ]
  },
  {
   "cell_type": "code",
   "execution_count": 552,
   "metadata": {
    "id": "KmEHbCvEpnYV"
   },
   "outputs": [],
   "source": [
    "def three_most_expensive(df):\n",
    "    df1=df[df['CHAS']==1]\n",
    "    return df1.sort_values(by=['MEDV'])[-6:]"
   ]
  },
  {
   "cell_type": "code",
   "execution_count": 553,
   "metadata": {
    "id": "5kiL2V7upndY"
   },
   "outputs": [],
   "source": [
    "# Do not modify this cell\n",
    "top6 = three_most_expensive(df)\n",
    "assert top6.MEDV.mean() == 50.0\n",
    "assert top6.TAX.min() == 198.0\n",
    "assert top6.ZN.max() == 90.0\n",
    "assert isinstance(top6, pd.DataFrame)"
   ]
  },
  {
   "cell_type": "markdown",
   "metadata": {
    "id": "ZDxLPESGpng3"
   },
   "source": [
    "Problem7. Վերադարձնել միջինում 10 ամենաշատ  սենյակներն ունեցող թաղամասերի միջին սենյակների քանակները (``RM``) և տների մեդիան գները։ Արդյունքը պետք է լինի $10 \\times 2$ չափանի DataFrame՝ դասավորված ըստ ``RM`` սյան նվազման կարգով։"
   ]
  },
  {
   "cell_type": "code",
   "execution_count": 554,
   "metadata": {
    "id": "HHSrktITpnk2"
   },
   "outputs": [],
   "source": [
    "def ten_most_rooms(df):\n",
    "    df1=df.sort_values(by=['RM'])[-1:-11:-1]\n",
    "    df2=df1[['RM','MEDV']]\n",
    "#     x=df2['RM'].mean()\n",
    "#     y=df2['MEDV'].mean()\n",
    "    return df2"
   ]
  },
  {
   "cell_type": "code",
   "execution_count": 555,
   "metadata": {
    "id": "qNPI7gvkx6Gs"
   },
   "outputs": [],
   "source": [
    "# Do not modify this cell\n",
    "top10 = ten_most_rooms(df)\n",
    "assert top10.iloc[0].values.tolist() ==  [8.78, 21.9]\n",
    "assert top10.mean().values.tolist() == [8.4388, 44.83]"
   ]
  },
  {
   "cell_type": "markdown",
   "metadata": {
    "id": "1EOVdGvLywaB"
   },
   "source": [
    "Problem8. ``df``-ում ավելացնել նոր տող ըստ տրված 14 երկարությամբ ``x`` վեկտորի։"
   ]
  },
  {
   "cell_type": "code",
   "execution_count": 556,
   "metadata": {
    "id": "vKG8SWt-jSxw"
   },
   "outputs": [
    {
     "name": "stdout",
     "output_type": "stream",
     "text": [
      "506\n"
     ]
    }
   ],
   "source": [
    "print(len(df))\n",
    "def add_row(df, x):\n",
    "    df.loc[len(df)] = x\n",
    "    #print(len(df))\n",
    "    #return df\n",
    "#x = np.array([0.006, 18, 2.31, 0, 0.5, 6.5, 65, 4, 1, 296, 15, 396, 5, 19])\n",
    "#add_row(df,x)"
   ]
  },
  {
   "cell_type": "code",
   "execution_count": 557,
   "metadata": {
    "id": "rjTCu5OdzGjV"
   },
   "outputs": [],
   "source": [
    "# Do not modify this cell\n",
    "assert len(df) == 506\n",
    "x = np.array([0.006, 18, 2.31, 0, 0.5, 6.5, 65, 4, 1, 296, 15, 396, 5, 19])\n",
    "assert add_row(df, x) is None\n",
    "assert len(df) == 507\n",
    "assert (df.iloc[-1].values == x).all()"
   ]
  },
  {
   "cell_type": "markdown",
   "metadata": {
    "id": "-gtE930n1_i_"
   },
   "source": [
    "Problem9. ``df``-ից ջնջել առաջին սյունը։"
   ]
  },
  {
   "cell_type": "code",
   "execution_count": 558,
   "metadata": {
    "id": "uC4o3Yzy1_uG"
   },
   "outputs": [],
   "source": [
    "def remove_first_col(df):\n",
    "    df.drop(['CRIM'],axis=1,inplace=True)\n",
    "    print(df.shape[1])\n",
    "    print(df.columns[0])"
   ]
  },
  {
   "cell_type": "code",
   "execution_count": 559,
   "metadata": {
    "id": "xRgAvIjW1_yg"
   },
   "outputs": [
    {
     "name": "stdout",
     "output_type": "stream",
     "text": [
      "13\n",
      "ZN\n"
     ]
    }
   ],
   "source": [
    "# Do not modify this cell\n",
    "assert df.shape[1] == 14\n",
    "assert remove_first_col(df) is None\n",
    "assert df.shape[1] == 13\n",
    "assert df.columns[0] == 'ZN'\n",
    "assert 'CRIM' not in df.columns"
   ]
  },
  {
   "cell_type": "markdown",
   "metadata": {
    "id": "zNp_bIS21_2Y"
   },
   "source": [
    "Problem10. Օգտագործելով ``groupby`` ֆունկցիան գտնել գետի մոտ գտնվող և չգտնվող թաղամասերի բնութագրիչների միջինները։"
   ]
  },
  {
   "cell_type": "code",
   "execution_count": 560,
   "metadata": {
    "id": "tjGRcoxQ1_7A"
   },
   "outputs": [],
   "source": [
    "def group_by_river(df):\n",
    "  # Your code here\n",
    "    #df.drop(['CRIM'],axis=1,inplace=True)\n",
    "    df=df.groupby(['CHAS']).mean()\n",
    "    #print(df)\n",
    "    return df"
   ]
  },
  {
   "cell_type": "code",
   "execution_count": 562,
   "metadata": {
    "colab": {
     "base_uri": "https://localhost:8080/",
     "height": 235
    },
    "executionInfo": {
     "elapsed": 399,
     "status": "error",
     "timestamp": 1662379196427,
     "user": {
      "displayName": "19 91",
      "userId": "03770909112941049361"
     },
     "user_tz": -240
    },
    "id": "L6zJXoAi1_-q",
    "outputId": "8d37e836-4cba-40bc-807d-f52aecf00f1e"
   },
   "outputs": [
    {
     "name": "stdout",
     "output_type": "stream",
     "text": [
      "[22.087288135593223, 28.439999999999998]\n"
     ]
    },
    {
     "ename": "AssertionError",
     "evalue": "",
     "output_type": "error",
     "traceback": [
      "\u001b[0;31m---------------------------------------------------------------------------\u001b[0m",
      "\u001b[0;31mAssertionError\u001b[0m                            Traceback (most recent call last)",
      "Cell \u001b[0;32mIn[562], line 6\u001b[0m\n\u001b[1;32m      4\u001b[0m \u001b[38;5;28;01massert\u001b[39;00m river_df\u001b[38;5;241m.\u001b[39mindex\u001b[38;5;241m.\u001b[39mname \u001b[38;5;241m==\u001b[39m \u001b[38;5;124m'\u001b[39m\u001b[38;5;124mCHAS\u001b[39m\u001b[38;5;124m'\u001b[39m\n\u001b[1;32m      5\u001b[0m \u001b[38;5;28mprint\u001b[39m(river_df\u001b[38;5;241m.\u001b[39mMEDV\u001b[38;5;241m.\u001b[39mvalues\u001b[38;5;241m.\u001b[39mtolist())\n\u001b[0;32m----> 6\u001b[0m \u001b[38;5;28;01massert\u001b[39;00m river_df\u001b[38;5;241m.\u001b[39mMEDV\u001b[38;5;241m.\u001b[39mvalues\u001b[38;5;241m.\u001b[39mtolist() \u001b[38;5;241m==\u001b[39m [\u001b[38;5;241m22.08728813559324\u001b[39m, \u001b[38;5;241m28.44\u001b[39m]\n",
      "\u001b[0;31mAssertionError\u001b[0m: "
     ]
    }
   ],
   "source": [
    "# Do not modify this cell\n",
    "river_df = group_by_river(df)\n",
    "assert river_df.shape == (2, 12)\n",
    "assert river_df.index.name == 'CHAS'\n",
    "print(river_df.MEDV.values.tolist())\n",
    "assert river_df.MEDV.values.tolist() == [22.08728813559324, 28.44]"
   ]
  },
  {
   "cell_type": "markdown",
   "metadata": {
    "id": "Ov0-Jqpg2ACz"
   },
   "source": [
    "Problem11. ``'Homeworks/HW_files/Military Expenditure.csv'`` ֆայլի տվյալները կարդացեք DataFrame-ով և վերադարձրեք առաջին 10 տողերը, ինչպես նաև ամբողջ DataFrame-ը։"
   ]
  },
  {
   "cell_type": "code",
   "execution_count": 709,
   "metadata": {
    "id": "WjMicO7f2AGu",
    "scrolled": true
   },
   "outputs": [],
   "source": [
    "def read_return_top10(file_name):\n",
    "  # your code here\n",
    "    df=pd.read_csv(file_name)\n",
    "    #print(df)\n",
    "    return df[0:10],df\n",
    "#read_return_top10('/home/arman/Downloads/03-Pandas/MilitaryExpenditureSmall.csv')    "
   ]
  },
  {
   "cell_type": "code",
   "execution_count": 710,
   "metadata": {
    "id": "BhdD_dwd2AKt",
    "scrolled": true
   },
   "outputs": [],
   "source": [
    "# Do not modify this cell\n",
    "top10, df = read_return_top10('/home/arman/Downloads/03-Pandas/MilitaryExpenditureSmall.csv')\n",
    "assert top10.iloc[8]['Name'] == 'Armenia'\n",
    "assert top10.shape == (10, 63)"
   ]
  },
  {
   "cell_type": "markdown",
   "metadata": {
    "id": "1umQDIiu8R4E"
   },
   "source": [
    "Military Expenditure dataset-ը պատրաստվել է Ստոկհոլմի խաղաղության միջազգային հետազոտությունների ինստիտուտի (SIPRI) կողմից և պարունակում է ավելի քան 200 պետությունների 1960-2018 թվականներին կատարած ռազմական ծախսերը դոլարներով։\n",
    "\n",
    "Problem12. Ջնջել այն տողերը որոնց 'Type' սյունը \"Country\" *չէ*։"
   ]
  },
  {
   "cell_type": "code",
   "execution_count": null,
   "metadata": {
    "colab": {
     "base_uri": "https://localhost:8080/",
     "height": 206
    },
    "executionInfo": {
     "elapsed": 15,
     "status": "ok",
     "timestamp": 1662379342716,
     "user": {
      "displayName": "19 91",
      "userId": "03770909112941049361"
     },
     "user_tz": -240
    },
    "id": "BFC4Dw12h6ja",
    "outputId": "371bba3c-7dea-44c5-e93d-e5501145a24a"
   },
   "outputs": [
    {
     "data": {
      "text/html": [
       "\n",
       "  <div id=\"df-f7eb13be-cc45-48e8-946d-91094a869343\">\n",
       "    <div class=\"colab-df-container\">\n",
       "      <div>\n",
       "<style scoped>\n",
       "    .dataframe tbody tr th:only-of-type {\n",
       "        vertical-align: middle;\n",
       "    }\n",
       "\n",
       "    .dataframe tbody tr th {\n",
       "        vertical-align: top;\n",
       "    }\n",
       "\n",
       "    .dataframe thead th {\n",
       "        text-align: right;\n",
       "    }\n",
       "</style>\n",
       "<table border=\"1\" class=\"dataframe\">\n",
       "  <thead>\n",
       "    <tr style=\"text-align: right;\">\n",
       "      <th></th>\n",
       "      <th>CRIM</th>\n",
       "      <th>ZN</th>\n",
       "      <th>INDUS</th>\n",
       "      <th>CHAS</th>\n",
       "      <th>NOX</th>\n",
       "      <th>RM</th>\n",
       "      <th>AGE</th>\n",
       "      <th>DIS</th>\n",
       "      <th>RAD</th>\n",
       "      <th>TAX</th>\n",
       "      <th>PTRAT</th>\n",
       "      <th>B</th>\n",
       "      <th>LSTAT</th>\n",
       "      <th>MEDV</th>\n",
       "    </tr>\n",
       "  </thead>\n",
       "  <tbody>\n",
       "    <tr>\n",
       "      <th>0</th>\n",
       "      <td>0.00632</td>\n",
       "      <td>18.0</td>\n",
       "      <td>2.31</td>\n",
       "      <td>0.0</td>\n",
       "      <td>0.538</td>\n",
       "      <td>6.575</td>\n",
       "      <td>65.2</td>\n",
       "      <td>4.0900</td>\n",
       "      <td>1.0</td>\n",
       "      <td>296.0</td>\n",
       "      <td>15.3</td>\n",
       "      <td>396.90</td>\n",
       "      <td>4.98</td>\n",
       "      <td>24.0</td>\n",
       "    </tr>\n",
       "    <tr>\n",
       "      <th>1</th>\n",
       "      <td>0.02731</td>\n",
       "      <td>0.0</td>\n",
       "      <td>7.07</td>\n",
       "      <td>0.0</td>\n",
       "      <td>0.469</td>\n",
       "      <td>6.421</td>\n",
       "      <td>78.9</td>\n",
       "      <td>4.9671</td>\n",
       "      <td>2.0</td>\n",
       "      <td>242.0</td>\n",
       "      <td>17.8</td>\n",
       "      <td>396.90</td>\n",
       "      <td>9.14</td>\n",
       "      <td>21.6</td>\n",
       "    </tr>\n",
       "    <tr>\n",
       "      <th>2</th>\n",
       "      <td>0.02729</td>\n",
       "      <td>0.0</td>\n",
       "      <td>7.07</td>\n",
       "      <td>0.0</td>\n",
       "      <td>0.469</td>\n",
       "      <td>7.185</td>\n",
       "      <td>61.1</td>\n",
       "      <td>4.9671</td>\n",
       "      <td>2.0</td>\n",
       "      <td>242.0</td>\n",
       "      <td>17.8</td>\n",
       "      <td>392.83</td>\n",
       "      <td>4.03</td>\n",
       "      <td>34.7</td>\n",
       "    </tr>\n",
       "    <tr>\n",
       "      <th>3</th>\n",
       "      <td>0.03237</td>\n",
       "      <td>0.0</td>\n",
       "      <td>2.18</td>\n",
       "      <td>0.0</td>\n",
       "      <td>0.458</td>\n",
       "      <td>6.998</td>\n",
       "      <td>45.8</td>\n",
       "      <td>6.0622</td>\n",
       "      <td>3.0</td>\n",
       "      <td>222.0</td>\n",
       "      <td>18.7</td>\n",
       "      <td>394.63</td>\n",
       "      <td>2.94</td>\n",
       "      <td>33.4</td>\n",
       "    </tr>\n",
       "    <tr>\n",
       "      <th>4</th>\n",
       "      <td>0.06905</td>\n",
       "      <td>0.0</td>\n",
       "      <td>2.18</td>\n",
       "      <td>0.0</td>\n",
       "      <td>0.458</td>\n",
       "      <td>7.147</td>\n",
       "      <td>54.2</td>\n",
       "      <td>6.0622</td>\n",
       "      <td>3.0</td>\n",
       "      <td>222.0</td>\n",
       "      <td>18.7</td>\n",
       "      <td>396.90</td>\n",
       "      <td>5.33</td>\n",
       "      <td>36.2</td>\n",
       "    </tr>\n",
       "  </tbody>\n",
       "</table>\n",
       "</div>\n",
       "      <button class=\"colab-df-convert\" onclick=\"convertToInteractive('df-f7eb13be-cc45-48e8-946d-91094a869343')\"\n",
       "              title=\"Convert this dataframe to an interactive table.\"\n",
       "              style=\"display:none;\">\n",
       "        \n",
       "  <svg xmlns=\"http://www.w3.org/2000/svg\" height=\"24px\"viewBox=\"0 0 24 24\"\n",
       "       width=\"24px\">\n",
       "    <path d=\"M0 0h24v24H0V0z\" fill=\"none\"/>\n",
       "    <path d=\"M18.56 5.44l.94 2.06.94-2.06 2.06-.94-2.06-.94-.94-2.06-.94 2.06-2.06.94zm-11 1L8.5 8.5l.94-2.06 2.06-.94-2.06-.94L8.5 2.5l-.94 2.06-2.06.94zm10 10l.94 2.06.94-2.06 2.06-.94-2.06-.94-.94-2.06-.94 2.06-2.06.94z\"/><path d=\"M17.41 7.96l-1.37-1.37c-.4-.4-.92-.59-1.43-.59-.52 0-1.04.2-1.43.59L10.3 9.45l-7.72 7.72c-.78.78-.78 2.05 0 2.83L4 21.41c.39.39.9.59 1.41.59.51 0 1.02-.2 1.41-.59l7.78-7.78 2.81-2.81c.8-.78.8-2.07 0-2.86zM5.41 20L4 18.59l7.72-7.72 1.47 1.35L5.41 20z\"/>\n",
       "  </svg>\n",
       "      </button>\n",
       "      \n",
       "  <style>\n",
       "    .colab-df-container {\n",
       "      display:flex;\n",
       "      flex-wrap:wrap;\n",
       "      gap: 12px;\n",
       "    }\n",
       "\n",
       "    .colab-df-convert {\n",
       "      background-color: #E8F0FE;\n",
       "      border: none;\n",
       "      border-radius: 50%;\n",
       "      cursor: pointer;\n",
       "      display: none;\n",
       "      fill: #1967D2;\n",
       "      height: 32px;\n",
       "      padding: 0 0 0 0;\n",
       "      width: 32px;\n",
       "    }\n",
       "\n",
       "    .colab-df-convert:hover {\n",
       "      background-color: #E2EBFA;\n",
       "      box-shadow: 0px 1px 2px rgba(60, 64, 67, 0.3), 0px 1px 3px 1px rgba(60, 64, 67, 0.15);\n",
       "      fill: #174EA6;\n",
       "    }\n",
       "\n",
       "    [theme=dark] .colab-df-convert {\n",
       "      background-color: #3B4455;\n",
       "      fill: #D2E3FC;\n",
       "    }\n",
       "\n",
       "    [theme=dark] .colab-df-convert:hover {\n",
       "      background-color: #434B5C;\n",
       "      box-shadow: 0px 1px 3px 1px rgba(0, 0, 0, 0.15);\n",
       "      filter: drop-shadow(0px 1px 2px rgba(0, 0, 0, 0.3));\n",
       "      fill: #FFFFFF;\n",
       "    }\n",
       "  </style>\n",
       "\n",
       "      <script>\n",
       "        const buttonEl =\n",
       "          document.querySelector('#df-f7eb13be-cc45-48e8-946d-91094a869343 button.colab-df-convert');\n",
       "        buttonEl.style.display =\n",
       "          google.colab.kernel.accessAllowed ? 'block' : 'none';\n",
       "\n",
       "        async function convertToInteractive(key) {\n",
       "          const element = document.querySelector('#df-f7eb13be-cc45-48e8-946d-91094a869343');\n",
       "          const dataTable =\n",
       "            await google.colab.kernel.invokeFunction('convertToInteractive',\n",
       "                                                     [key], {});\n",
       "          if (!dataTable) return;\n",
       "\n",
       "          const docLinkHtml = 'Like what you see? Visit the ' +\n",
       "            '<a target=\"_blank\" href=https://colab.research.google.com/notebooks/data_table.ipynb>data table notebook</a>'\n",
       "            + ' to learn more about interactive tables.';\n",
       "          element.innerHTML = '';\n",
       "          dataTable['output_type'] = 'display_data';\n",
       "          await google.colab.output.renderOutput(dataTable, element);\n",
       "          const docLink = document.createElement('div');\n",
       "          docLink.innerHTML = docLinkHtml;\n",
       "          element.appendChild(docLink);\n",
       "        }\n",
       "      </script>\n",
       "    </div>\n",
       "  </div>\n",
       "  "
      ],
      "text/plain": [
       "      CRIM    ZN  INDUS  CHAS    NOX     RM   AGE     DIS  RAD    TAX  PTRAT  \\\n",
       "0  0.00632  18.0   2.31   0.0  0.538  6.575  65.2  4.0900  1.0  296.0   15.3   \n",
       "1  0.02731   0.0   7.07   0.0  0.469  6.421  78.9  4.9671  2.0  242.0   17.8   \n",
       "2  0.02729   0.0   7.07   0.0  0.469  7.185  61.1  4.9671  2.0  242.0   17.8   \n",
       "3  0.03237   0.0   2.18   0.0  0.458  6.998  45.8  6.0622  3.0  222.0   18.7   \n",
       "4  0.06905   0.0   2.18   0.0  0.458  7.147  54.2  6.0622  3.0  222.0   18.7   \n",
       "\n",
       "        B  LSTAT  MEDV  \n",
       "0  396.90   4.98  24.0  \n",
       "1  396.90   9.14  21.6  \n",
       "2  392.83   4.03  34.7  \n",
       "3  394.63   2.94  33.4  \n",
       "4  396.90   5.33  36.2  "
      ]
     },
     "execution_count": 33,
     "metadata": {},
     "output_type": "execute_result"
    }
   ],
   "source": [
    "df.head()"
   ]
  },
  {
   "cell_type": "code",
   "execution_count": 711,
   "metadata": {
    "id": "77I9fD9s8R7t"
   },
   "outputs": [],
   "source": [
    "def remove_non_countries(df):\n",
    "  # Your code here\n",
    "    df.drop(range(202,len(df)),inplace=True)\n",
    "    #print(df.shape)"
   ]
  },
  {
   "cell_type": "code",
   "execution_count": 712,
   "metadata": {
    "colab": {
     "base_uri": "https://localhost:8080/",
     "height": 502
    },
    "executionInfo": {
     "elapsed": 13,
     "status": "error",
     "timestamp": 1662379325653,
     "user": {
      "displayName": "19 91",
      "userId": "03770909112941049361"
     },
     "user_tz": -240
    },
    "id": "RrKAWAfH8R_T",
    "outputId": "3ef3369f-337a-4206-89d7-b4bcad6e0348"
   },
   "outputs": [],
   "source": [
    "# Do not modify this cell\n",
    "assert remove_non_countries(df) is None\n",
    "assert df.Type.nunique() == 1\n",
    "#print(df.shape)\n",
    "assert df.shape == (202, 63)"
   ]
  },
  {
   "cell_type": "markdown",
   "metadata": {
    "id": "GkG4ZCdV8SDV"
   },
   "source": [
    "Problem13. Ջնջել 'Code', 'Type', 'Indicator Name' սյուները։"
   ]
  },
  {
   "cell_type": "code",
   "execution_count": 713,
   "metadata": {
    "id": "ZMa3faHG8SHR"
   },
   "outputs": [],
   "source": [
    "def remove_some_cols(df):\n",
    "  # Your code here\n",
    "    df.drop(['Code','Indicator Name','Type'],axis=1,inplace=True)\n",
    "    #print(df)"
   ]
  },
  {
   "cell_type": "code",
   "execution_count": 714,
   "metadata": {
    "id": "f1I_nh2C-huU"
   },
   "outputs": [],
   "source": [
    "# Do not modify this cell\n",
    "assert remove_some_cols(df) is None\n",
    "assert df.shape == (202, 60)\n",
    "#print(df.columns[1])\n",
    "assert df.columns[1] == '1960'"
   ]
  },
  {
   "cell_type": "markdown",
   "metadata": {
    "id": "CwC6aiht-4yh"
   },
   "source": [
    "Problem14. Ստացված dataframe-ը գրել(պահպանել) 'MilitaryExpenditureSmall.csv' ֆայլի վրա **այնպես, ինչպես որ կա**։"
   ]
  },
  {
   "cell_type": "code",
   "execution_count": 715,
   "metadata": {
    "id": "WNOW65Gi-428"
   },
   "outputs": [],
   "source": [
    "def save_df(df, file_name):\n",
    "  # your code here\n",
    "    df.to_csv(file_name ,index=False) "
   ]
  },
  {
   "cell_type": "code",
   "execution_count": 716,
   "metadata": {
    "id": "bCfx11nU-47K"
   },
   "outputs": [],
   "source": [
    "# Do not modify this cell\n",
    "file_name = '/home/arman/Downloads/03-Pandas/MilitaryExpenditureSmall_1.csv'\n",
    "save_df(df, file_name)\n",
    "small_df = pd.read_csv(file_name)\n",
    "#print(small_df.iloc[0,0])\n",
    "assert small_df.iloc[0, 0] == 'Afghanistan'\n",
    "assert small_df.shape[1] == 60"
   ]
  },
  {
   "cell_type": "markdown",
   "metadata": {
    "id": "S_YLkrnz-4_d"
   },
   "source": [
    "Problem15. Վերադարձնել Հայաստանին համապատասխանող տողի այն տվյալները/վանդակները որոնք դատարկ չեն։"
   ]
  },
  {
   "cell_type": "code",
   "execution_count": 767,
   "metadata": {
    "id": "3DfUpEo6AvHl"
   },
   "outputs": [],
   "source": [
    "def info_arm(df):\n",
    "  # your code here\n",
    "    df=df.set_index('Name')\n",
    "    #print(df)\n",
    "    #x=pd.DataFrame(data=df.iloc[8].dropna()) #.transpose()   \n",
    "    x=pd.DataFrame(data=df.loc['Armenia'].dropna()).transpose()\n",
    "    #y=pd.DataFrame(x).transpose()\n",
    "    #print(x)\n",
    "    return x"
   ]
  },
  {
   "cell_type": "code",
   "execution_count": 769,
   "metadata": {
    "id": "4oqBF6fnAvLZ",
    "scrolled": true
   },
   "outputs": [
    {
     "name": "stdout",
     "output_type": "stream",
     "text": [
      "(1, 26)\n",
      "         1992          1993          1995          1996          1997  \\\n",
      "Armenia   0.0  9.829764e+06  5.222858e+07  5.241027e+07  6.406212e+07   \n",
      "\n",
      "                 1998          1999          2000          2001          2002  \\\n",
      "Armenia  6.675757e+07  6.823415e+07  6.805214e+07  6.624763e+07  6.410641e+07   \n",
      "\n",
      "         ...          2009          2010          2011          2012  \\\n",
      "Armenia  ...  3.594993e+08  3.950115e+08  3.908714e+08  3.805717e+08   \n",
      "\n",
      "                 2013          2014          2015          2016          2017  \\\n",
      "Armenia  4.445519e+08  4.578070e+08  4.473798e+08  4.313962e+08  4.436104e+08   \n",
      "\n",
      "                 2018  \n",
      "Armenia  5.132520e+08  \n",
      "\n",
      "[1 rows x 26 columns]\n"
     ]
    },
    {
     "ename": "AssertionError",
     "evalue": "",
     "output_type": "error",
     "traceback": [
      "\u001b[0;31m---------------------------------------------------------------------------\u001b[0m",
      "\u001b[0;31mAssertionError\u001b[0m                            Traceback (most recent call last)",
      "Cell \u001b[0;32mIn[769], line 6\u001b[0m\n\u001b[1;32m      4\u001b[0m \u001b[38;5;28mprint\u001b[39m(arm)\n\u001b[1;32m      5\u001b[0m \u001b[38;5;28;01massert\u001b[39;00m arm\u001b[38;5;241m.\u001b[39mshape \u001b[38;5;241m==\u001b[39m (\u001b[38;5;241m1\u001b[39m, \u001b[38;5;241m26\u001b[39m)\n\u001b[0;32m----> 6\u001b[0m \u001b[38;5;28;01massert\u001b[39;00m arm\u001b[38;5;241m.\u001b[39miloc[:, \u001b[38;5;241m1\u001b[39m:]\u001b[38;5;241m.\u001b[39mmax(axis\u001b[38;5;241m=\u001b[39m\u001b[38;5;241m1\u001b[39m)\u001b[38;5;241m.\u001b[39mvalues[\u001b[38;5;241m0\u001b[39m] \u001b[38;5;241m==\u001b[39m \u001b[38;5;241m608854649.9\u001b[39m\n\u001b[1;32m      7\u001b[0m \u001b[38;5;28;01massert\u001b[39;00m \u001b[38;5;124m'\u001b[39m\u001b[38;5;124m1994\u001b[39m\u001b[38;5;124m'\u001b[39m \u001b[38;5;129;01mnot\u001b[39;00m \u001b[38;5;129;01min\u001b[39;00m arm\u001b[38;5;241m.\u001b[39mcolumns\n",
      "\u001b[0;31mAssertionError\u001b[0m: "
     ]
    }
   ],
   "source": [
    "# Do not modify this cell\n",
    "arm = info_arm(df)\n",
    "print(arm.shape)\n",
    "print(arm)\n",
    "assert arm.shape == (1, 26)\n",
    "assert arm.iloc[:, 1:].max(axis=1).values[0] == 608854649.9\n",
    "assert '1994' not in arm.columns"
   ]
  },
  {
   "cell_type": "markdown",
   "metadata": {
    "id": "LaQ2lGT0AvPv"
   },
   "source": [
    "Problem16. Վերադարձնել DataFrame, որտեղ կլինի պետության անունը՝ որպես ինդեքս և յուրաքանչյուր պետության միջին տարեկան ծախսը՝ որպես ``'mean_expense'`` սյուն՝ գրված նվազման կարգով։  Վերջնական աղյուսակում չպետք է լինեն այնպիսի երկրներ, որոնց ծախսերի տվյալները ընդհանրապես առկա չեն կամ 0 են։"
   ]
  },
  {
   "cell_type": "code",
   "execution_count": 810,
   "metadata": {
    "id": "nGPb80DRAvSs"
   },
   "outputs": [],
   "source": [
    "#print(df)\n",
    "def per_country_mean_expense(df):\n",
    "  # your code here\n",
    "    df=df.set_index('Name')\n",
    "    df['mean']=df.mean(axis=1)\n",
    "    df=df.reset_index()\n",
    "    expense=df[['Name','mean']].copy().dropna().sort_values('mean',ascending=False)\n",
    "    expense = expense.set_index('Name')\n",
    "    return expense"
   ]
  },
  {
   "cell_type": "code",
   "execution_count": 812,
   "metadata": {
    "id": "vGsnpiYSHTCx"
   },
   "outputs": [
    {
     "name": "stdout",
     "output_type": "stream",
     "text": [
      "                                   mean\n",
      "Name                                   \n",
      "High income                5.651188e+11\n",
      "OECD members               5.362349e+11\n",
      "Post-demographic dividend  5.134129e+11\n",
      "North America              3.187398e+11\n",
      "Europe & Central Asia      2.930438e+11\n",
      "...                                 ...\n",
      "Cabo Verde                 6.610047e+06\n",
      "Gambia, The                4.781586e+06\n",
      "Haiti                      2.019929e+06\n",
      "Costa Rica                 0.000000e+00\n",
      "Iceland                    0.000000e+00\n",
      "\n",
      "[164 rows x 1 columns]\n"
     ]
    },
    {
     "ename": "AssertionError",
     "evalue": "",
     "output_type": "error",
     "traceback": [
      "\u001b[0;31m---------------------------------------------------------------------------\u001b[0m",
      "\u001b[0;31mAssertionError\u001b[0m                            Traceback (most recent call last)",
      "Cell \u001b[0;32mIn[812], line 4\u001b[0m\n\u001b[1;32m      2\u001b[0m grouped_df \u001b[38;5;241m=\u001b[39m per_country_mean_expense(df)\n\u001b[1;32m      3\u001b[0m \u001b[38;5;28mprint\u001b[39m(grouped_df)\n\u001b[0;32m----> 4\u001b[0m \u001b[38;5;28;01massert\u001b[39;00m grouped_df\u001b[38;5;241m.\u001b[39mloc[\u001b[38;5;124m'\u001b[39m\u001b[38;5;124mArmenia\u001b[39m\u001b[38;5;124m'\u001b[39m][\u001b[38;5;241m0\u001b[39m] \u001b[38;5;241m==\u001b[39m arm\u001b[38;5;241m.\u001b[39miloc[:,\u001b[38;5;241m1\u001b[39m:]\u001b[38;5;241m.\u001b[39mmean(axis\u001b[38;5;241m=\u001b[39m\u001b[38;5;241m1\u001b[39m)\u001b[38;5;241m.\u001b[39mvalues[\u001b[38;5;241m0\u001b[39m]\n\u001b[1;32m      5\u001b[0m \u001b[38;5;28;01massert\u001b[39;00m grouped_df\u001b[38;5;241m.\u001b[39mshape \u001b[38;5;241m==\u001b[39m (\u001b[38;5;241m164\u001b[39m, \u001b[38;5;241m1\u001b[39m)\n\u001b[1;32m      6\u001b[0m \u001b[38;5;28;01massert\u001b[39;00m grouped_df\u001b[38;5;241m.\u001b[39mindex[\u001b[38;5;241m0\u001b[39m] \u001b[38;5;241m==\u001b[39m \u001b[38;5;124m'\u001b[39m\u001b[38;5;124mUnited States\u001b[39m\u001b[38;5;124m'\u001b[39m\n",
      "\u001b[0;31mAssertionError\u001b[0m: "
     ]
    }
   ],
   "source": [
    "# Do not modify this cell\n",
    "grouped_df = per_country_mean_expense(df)\n",
    "print(grouped_df)\n",
    "assert grouped_df.loc['Armenia'][0] == arm.iloc[:,1:].mean(axis=1).values[0]\n",
    "assert grouped_df.shape == (164, 1)\n",
    "assert grouped_df.index[0] == 'United States'\n",
    "assert grouped_df.index[-1] == 'Haiti'"
   ]
  },
  {
   "cell_type": "markdown",
   "metadata": {
    "id": "YylBqLaCJ-21"
   },
   "source": [
    "Problem17. Տրված է ՝ $10 \\times 4$ չափնի ```pandas.DataFrame (df)```։ Հարկավոր է գրել ֆունկցիա, որը կստեղծի նոր ```pandas.DataFrame```, որի մեջ կլինեն ```df```-ի տողերն ու սյուները և 2 նոր սյուն ```nearest_row```  և ```dist``` որոնց մեջ գրված կլինեն ամենամոտիկ տողի ```index```-ը և էվկլիդյան հեռավորությունը այդ տողերի միջև։ \n"
   ]
  },
  {
   "cell_type": "code",
   "execution_count": null,
   "metadata": {
    "colab": {
     "base_uri": "https://localhost:8080/"
    },
    "executionInfo": {
     "elapsed": 358,
     "status": "ok",
     "timestamp": 1662382230187,
     "user": {
      "displayName": "19 91",
      "userId": "03770909112941049361"
     },
     "user_tz": -240
    },
    "id": "fmLJwz_X8SLy",
    "outputId": "968b5a04-6d02-4674-80bb-5e0293cef119"
   },
   "outputs": [
    {
     "name": "stderr",
     "output_type": "stream",
     "text": [
      "/usr/local/lib/python3.7/dist-packages/ipykernel_launcher.py:8: FutureWarning: Support for multi-dimensional indexing (e.g. `obj[:, None]`) is deprecated and will be removed in a future version.  Convert to a numpy array before indexing instead.\n",
      "  \n"
     ]
    }
   ],
   "source": [
    "# Do not modify this cell\n",
    "np.random.seed(42)\n",
    "df = pd.DataFrame(np.random.randint(1, 100, 40).reshape(10, -1),\n",
    "                  columns=list('pqrs'),\n",
    "                  index=list('abcdefghij'))\n",
    "new_df = add_columns(df)\n",
    "assert isinstance(new_df, pd.DataFrame) \n",
    "assert new_df.loc['a']['nearest_row'] == 'g' \n",
    "assert new_df.nearest_row.value_counts()[0] == 4\n",
    "assert id(new_df) != id(df)"
   ]
  },
  {
   "cell_type": "markdown",
   "metadata": {
    "id": "n3ZSEEqAQush"
   },
   "source": [
    "Problem18. Տրված է՝ $93 \\times 27 $ չափանի ```pandas.DataFrame (df)```։ Հարկավոր է գրել ֆունկցիա, որը կստեղծի նոր ```pandas.DataFrame```, որի մեջ կլինեն ```df```-ի տողերն ու սյուները, բացառությամբ ```Type``` սյան, որի փոխարեն կլինեն մի քանի սյուներ՝ ստացված HW4-ի 4-րդ խնդրի ֆունկցիայի միջոցով։ Սյուների անունները կլինեն ```Type``` սյան արժեքները (Midsize, Small, ...):\n"
   ]
  },
  {
   "cell_type": "code",
   "execution_count": 260,
   "metadata": {
    "id": "D09oh5NBQ95V"
   },
   "outputs": [],
   "source": [
    "def convert(df):\n",
    "  # Your code here\n",
    "    print(df)"
   ]
  },
  {
   "cell_type": "code",
   "execution_count": 261,
   "metadata": {
    "id": "0-54pHeXQ99q"
   },
   "outputs": [
    {
     "name": "stdout",
     "output_type": "stream",
     "text": [
      "   Manufacturer    Model     Type  Min.Price  Price  Max.Price  MPG.city  \\\n",
      "0         Acura  Integra    Small       12.9   15.9       18.8      25.0   \n",
      "1           NaN   Legend  Midsize       29.2   33.9       38.7      18.0   \n",
      "2          Audi       90  Compact       25.9   29.1       32.3      20.0   \n",
      "3          Audi      100  Midsize        NaN   37.7       44.6      19.0   \n",
      "4           BMW     535i  Midsize        NaN   30.0        NaN      22.0   \n",
      "..          ...      ...      ...        ...    ...        ...       ...   \n",
      "88   Volkswagen  Eurovan      Van       16.6   19.7       22.7      17.0   \n",
      "89   Volkswagen   Passat  Compact       17.6   20.0       22.4      21.0   \n",
      "90   Volkswagen  Corrado   Sporty       22.9   23.3       23.7      18.0   \n",
      "91        Volvo      240  Compact       21.8   22.7       23.5      21.0   \n",
      "92          NaN      850  Midsize       24.8   26.7       28.5      20.0   \n",
      "\n",
      "    MPG.highway             AirBags DriveTrain  ... Passengers  Length  \\\n",
      "0          31.0                None      Front  ...        5.0   177.0   \n",
      "1          25.0  Driver & Passenger      Front  ...        5.0   195.0   \n",
      "2          26.0         Driver only      Front  ...        5.0   180.0   \n",
      "3          26.0  Driver & Passenger        NaN  ...        6.0   193.0   \n",
      "4          30.0                 NaN       Rear  ...        4.0   186.0   \n",
      "..          ...                 ...        ...  ...        ...     ...   \n",
      "88         21.0                None      Front  ...        7.0   187.0   \n",
      "89         30.0                None      Front  ...        5.0   180.0   \n",
      "90         25.0                None      Front  ...        4.0   159.0   \n",
      "91         28.0         Driver only       Rear  ...        5.0   190.0   \n",
      "92         28.0  Driver & Passenger      Front  ...        5.0   184.0   \n",
      "\n",
      "    Wheelbase  Width  Turn.circle Rear.seat.room  Luggage.room  Weight  \\\n",
      "0       102.0   68.0         37.0           26.5           NaN  2705.0   \n",
      "1       115.0   71.0         38.0           30.0          15.0  3560.0   \n",
      "2       102.0   67.0         37.0           28.0          14.0  3375.0   \n",
      "3       106.0    NaN         37.0           31.0          17.0  3405.0   \n",
      "4       109.0   69.0         39.0           27.0          13.0  3640.0   \n",
      "..        ...    ...          ...            ...           ...     ...   \n",
      "88      115.0   72.0         38.0           34.0           NaN  3960.0   \n",
      "89      103.0   67.0         35.0           31.5          14.0  2985.0   \n",
      "90       97.0   66.0         36.0           26.0          15.0  2810.0   \n",
      "91      104.0   67.0         37.0           29.5          14.0  2985.0   \n",
      "92      105.0   69.0         38.0           30.0          15.0  3245.0   \n",
      "\n",
      "     Origin                Make  \n",
      "0   non-USA       Acura Integra  \n",
      "1   non-USA        Acura Legend  \n",
      "2   non-USA             Audi 90  \n",
      "3   non-USA            Audi 100  \n",
      "4   non-USA            BMW 535i  \n",
      "..      ...                 ...  \n",
      "88      NaN  Volkswagen Eurovan  \n",
      "89  non-USA   Volkswagen Passat  \n",
      "90  non-USA  Volkswagen Corrado  \n",
      "91  non-USA           Volvo 240  \n",
      "92  non-USA           Volvo 850  \n",
      "\n",
      "[93 rows x 27 columns]\n",
      "   Manufacturer    Model     Type  Min.Price  Price  Max.Price  MPG.city  \\\n",
      "0         Acura  Integra    Small       12.9   15.9       18.8      25.0   \n",
      "1           NaN   Legend  Midsize       29.2   33.9       38.7      18.0   \n",
      "2          Audi       90  Compact       25.9   29.1       32.3      20.0   \n",
      "3          Audi      100  Midsize        NaN   37.7       44.6      19.0   \n",
      "4           BMW     535i  Midsize        NaN   30.0        NaN      22.0   \n",
      "..          ...      ...      ...        ...    ...        ...       ...   \n",
      "88   Volkswagen  Eurovan      Van       16.6   19.7       22.7      17.0   \n",
      "89   Volkswagen   Passat  Compact       17.6   20.0       22.4      21.0   \n",
      "90   Volkswagen  Corrado   Sporty       22.9   23.3       23.7      18.0   \n",
      "91        Volvo      240  Compact       21.8   22.7       23.5      21.0   \n",
      "92          NaN      850  Midsize       24.8   26.7       28.5      20.0   \n",
      "\n",
      "    MPG.highway             AirBags DriveTrain  ... Passengers  Length  \\\n",
      "0          31.0                None      Front  ...        5.0   177.0   \n",
      "1          25.0  Driver & Passenger      Front  ...        5.0   195.0   \n",
      "2          26.0         Driver only      Front  ...        5.0   180.0   \n",
      "3          26.0  Driver & Passenger        NaN  ...        6.0   193.0   \n",
      "4          30.0                 NaN       Rear  ...        4.0   186.0   \n",
      "..          ...                 ...        ...  ...        ...     ...   \n",
      "88         21.0                None      Front  ...        7.0   187.0   \n",
      "89         30.0                None      Front  ...        5.0   180.0   \n",
      "90         25.0                None      Front  ...        4.0   159.0   \n",
      "91         28.0         Driver only       Rear  ...        5.0   190.0   \n",
      "92         28.0  Driver & Passenger      Front  ...        5.0   184.0   \n",
      "\n",
      "    Wheelbase  Width  Turn.circle Rear.seat.room  Luggage.room  Weight  \\\n",
      "0       102.0   68.0         37.0           26.5           NaN  2705.0   \n",
      "1       115.0   71.0         38.0           30.0          15.0  3560.0   \n",
      "2       102.0   67.0         37.0           28.0          14.0  3375.0   \n",
      "3       106.0    NaN         37.0           31.0          17.0  3405.0   \n",
      "4       109.0   69.0         39.0           27.0          13.0  3640.0   \n",
      "..        ...    ...          ...            ...           ...     ...   \n",
      "88      115.0   72.0         38.0           34.0           NaN  3960.0   \n",
      "89      103.0   67.0         35.0           31.5          14.0  2985.0   \n",
      "90       97.0   66.0         36.0           26.0          15.0  2810.0   \n",
      "91      104.0   67.0         37.0           29.5          14.0  2985.0   \n",
      "92      105.0   69.0         38.0           30.0          15.0  3245.0   \n",
      "\n",
      "     Origin                Make  \n",
      "0   non-USA       Acura Integra  \n",
      "1   non-USA        Acura Legend  \n",
      "2   non-USA             Audi 90  \n",
      "3   non-USA            Audi 100  \n",
      "4   non-USA            BMW 535i  \n",
      "..      ...                 ...  \n",
      "88      NaN  Volkswagen Eurovan  \n",
      "89  non-USA   Volkswagen Passat  \n",
      "90  non-USA  Volkswagen Corrado  \n",
      "91  non-USA           Volvo 240  \n",
      "92  non-USA           Volvo 850  \n",
      "\n",
      "[93 rows x 27 columns]\n"
     ]
    },
    {
     "ename": "AttributeError",
     "evalue": "'NoneType' object has no attribute 'iloc'",
     "output_type": "error",
     "traceback": [
      "\u001b[0;31m---------------------------------------------------------------------------\u001b[0m",
      "\u001b[0;31mAttributeError\u001b[0m                            Traceback (most recent call last)",
      "Cell \u001b[0;32mIn[261], line 5\u001b[0m\n\u001b[1;32m      2\u001b[0m df \u001b[38;5;241m=\u001b[39m pd\u001b[38;5;241m.\u001b[39mread_csv(\n\u001b[1;32m      3\u001b[0m     \u001b[38;5;124m'\u001b[39m\u001b[38;5;124mhttps://raw.githubusercontent.com/selva86/datasets/master/Cars93_miss.csv\u001b[39m\u001b[38;5;124m'\u001b[39m)\n\u001b[1;32m      4\u001b[0m new_df \u001b[38;5;241m=\u001b[39m convert(df)\n\u001b[0;32m----> 5\u001b[0m \u001b[38;5;28;01massert\u001b[39;00m \u001b[43mconvert\u001b[49m\u001b[43m(\u001b[49m\u001b[43mdf\u001b[49m\u001b[43m)\u001b[49m\u001b[38;5;241;43m.\u001b[39;49m\u001b[43miloc\u001b[49m[\u001b[38;5;241m0\u001b[39m][\u001b[38;5;124m'\u001b[39m\u001b[38;5;124mSmall\u001b[39m\u001b[38;5;124m'\u001b[39m] \u001b[38;5;241m==\u001b[39m \u001b[38;5;241m1\u001b[39m \n\u001b[1;32m      6\u001b[0m \u001b[38;5;28;01massert\u001b[39;00m \u001b[38;5;28misinstance\u001b[39m(new_df, pd\u001b[38;5;241m.\u001b[39mDataFrame)\n\u001b[1;32m      7\u001b[0m \u001b[38;5;28;01massert\u001b[39;00m \u001b[38;5;28mid\u001b[39m(new_df) \u001b[38;5;241m!=\u001b[39m \u001b[38;5;28mid\u001b[39m(df)\n",
      "\u001b[0;31mAttributeError\u001b[0m: 'NoneType' object has no attribute 'iloc'"
     ]
    }
   ],
   "source": [
    "# Do not modify this cell\n",
    "df = pd.read_csv(\n",
    "    'https://raw.githubusercontent.com/selva86/datasets/master/Cars93_miss.csv')\n",
    "new_df = convert(df)\n",
    "assert convert(df).iloc[0]['Small'] == 1 \n",
    "assert isinstance(new_df, pd.DataFrame)\n",
    "assert id(new_df) != id(df)\n",
    "assert new_df.shape == (93, 32)\n",
    "assert new_df.columns[-5:].tolist() == ['Large', 'Midsize',\n",
    "                                        'Small', 'Sporty', 'Van']"
   ]
  },
  {
   "cell_type": "markdown",
   "metadata": {
    "id": "eUNZhXmLQ-DY"
   },
   "source": [
    "Problem19. Նախորդ խնդրում ստացված dataset-ի  ```Min.price``` և ```Max.price``` սյուների բացակայող արժեքները լրացնել համապատասխանաբար այդ սյուների  միջինով և մեդիանով՝ օգտագործելով ``apply()`` մեթոդը:\n"
   ]
  },
  {
   "cell_type": "code",
   "execution_count": null,
   "metadata": {
    "id": "MZbU-659ScnJ"
   },
   "outputs": [],
   "source": [
    "def fill_NaN(df):\n",
    "  # Your code here"
   ]
  },
  {
   "cell_type": "code",
   "execution_count": null,
   "metadata": {
    "id": "MdWZqsmmTKAc"
   },
   "outputs": [],
   "source": [
    "# Do not modify this cell\n",
    "assert isinstance(new_df, pd.DataFrame)\n",
    "other_df = fill_NaN(new_df)\n",
    "assert abs(other_df.iloc[3]['Min.Price'] - 17.118605) < 0.0001\n",
    "assert abs(other_df.iloc[4]['Max.Price'] - 19.15) < 0.0001"
   ]
  }
 ],
 "metadata": {
  "colab": {
   "provenance": [
    {
     "file_id": "12WOlHFfwtD3bBbxAzuRccLmop-KqGJd2",
     "timestamp": 1670356067714
    }
   ]
  },
  "kernelspec": {
   "display_name": "Python 3 (ipykernel)",
   "language": "python",
   "name": "python3"
  },
  "language_info": {
   "codemirror_mode": {
    "name": "ipython",
    "version": 3
   },
   "file_extension": ".py",
   "mimetype": "text/x-python",
   "name": "python",
   "nbconvert_exporter": "python",
   "pygments_lexer": "ipython3",
   "version": "3.10.6"
  }
 },
 "nbformat": 4,
 "nbformat_minor": 1
}
