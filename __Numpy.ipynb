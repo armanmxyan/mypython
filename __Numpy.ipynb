{
 "cells": [
  {
   "cell_type": "code",
   "execution_count": 9,
   "metadata": {
    "id": "3Vn0GtnroyLK"
   },
   "outputs": [],
   "source": [
    "import numpy as np"
   ]
  },
  {
   "cell_type": "markdown",
   "metadata": {
    "id": "S-5fMn3ctow-"
   },
   "source": [
    "**Error handling**\n",
    "\n",
    ">1․ Եթե որպես ֆունկցիայի պարամետր ստանում եք numpy զանգված (վեկտոր կամ մատրից), և այն չի համապատասխանում խնդրում նշված չափին (dimensions) կամ չափերի անհամաձայնություններ կան, ապա վերադարցրեք(return) **\"DimensionError\"** տեքստը\n",
    "\n",
    ">2․ Եթե որպես ֆունկցիայի պարամետր ստանում եք 2D numpy զանգված (մատրից), և այն հակադարձելի(invertable) չէ, հակառակ խնդրի պահանջի, ապա վերադարցրեք(return) **\"NotInvertableError\"** տեքստը"
   ]
  },
  {
   "cell_type": "markdown",
   "metadata": {
    "id": "mffMhP2nwZLF"
   },
   "source": [
    "# Problems"
   ]
  },
  {
   "cell_type": "markdown",
   "metadata": {
    "id": "fIp8Aopeo2Li"
   },
   "source": [
    "Problem 1. Compute the euclidean distance between two arrays. \n",
    "\n",
    "\n",
    "> Հաշվիր 2 զանգվածների Էվկլիդյան հեռավորությունը։\n",
    "\n",
    "\n",
    "```\n",
    "a, b = np.array([1, 2]), np.array([1, 3])\n",
    "print(dist(a, b))\n",
    ">>1\n",
    "```\n"
   ]
  },
  {
   "cell_type": "code",
   "execution_count": 14,
   "metadata": {
    "id": "sjKBosqwpDCA"
   },
   "outputs": [],
   "source": [
    "import numpy as np\n",
    "def dist(a, b):\n",
    "    try:\n",
    "        sum_ = np.sum((a - b) ** 2)\n",
    "        return np.sqrt(sum_)\n",
    "    except:\n",
    "        return 'DimensionError'\n",
    "        "
   ]
  },
  {
   "cell_type": "code",
   "execution_count": 67,
   "metadata": {
    "id": "0y9bn1qa75-i"
   },
   "outputs": [],
   "source": [
    "# Do not modify this cell\n",
    "a, b = np.array([1, 1]), np.array([1, 3])\n",
    "assert dist(a, b) == 2\n",
    "\n",
    "a, b = np.array([-10, 1.5]), np.array([0.9, 3.6])\n",
    "assert round(dist(a, b), 2) == 11.1\n",
    "\n",
    "a, b = np.array([1, 1, 1]), np.array([0, -1, 3])\n",
    "assert dist(a, b) == 3\n",
    "\n",
    "a, b = np.array([1, 0, -999]), np.array([1, 3])\n",
    "assert dist(a, b) == \"DimensionError\"\n",
    "\n",
    "a, b = np.array([10, -1, 9, 1, 2.98, -0.14]), np.array([0, -1, 3.14, np.pi, 99, np.e])\n",
    "assert round(dist(a, b), 2) == 96.78"
   ]
  },
  {
   "cell_type": "markdown",
   "metadata": {
    "id": "HLs6-36QrdHR"
   },
   "source": [
    "Problem 2. Normalize an array so the values range exactly between 0 and 1․\n",
    "\n",
    "> Նորմավորիր զանգվածը այնպես, որ արժեքները լինեն 0-ից 1 միջակայքում։\n",
    "\n",
    "```\n",
    "a = np.array([1,2,3,4])\n",
    "print(rescale(a))\n",
    ">>[0, 0.3333333, 0.66666667, 1]\n",
    "```\n",
    "\n"
   ]
  },
  {
   "cell_type": "code",
   "execution_count": 100,
   "metadata": {
    "id": "K0r9MmixsJNt"
   },
   "outputs": [],
   "source": [
    "def rescale(a):\n",
    "    b=np.zeros(len(a))\n",
    "    for i in range(len(a)):\n",
    "        b[i]=(a[i]-min(a))/(max(a)-min(a))\n",
    "    return b"
   ]
  },
  {
   "cell_type": "code",
   "execution_count": 116,
   "metadata": {
    "id": "wWqXPufKP6Y4",
    "scrolled": true
   },
   "outputs": [],
   "source": [
    "# Do not modify this cell\n",
    "assert np.all(rescale(np.array([1, 2, 3, 4])) == [0, 1/3, 2/3, 1])\n",
    "assert np.all(rescale(np.array([0, 1])) == [0, 1])\n",
    "assert np.all(rescale(np.array([0, 10])) == [0, 1])\n",
    "assert np.all(rescale(np.array([1, 2, 4])) == [0, 1/3, 1])"
   ]
  },
  {
   "cell_type": "markdown",
   "metadata": {
    "id": "XwZdpMJnwecr"
   },
   "source": [
    "Problem 3. Given a numpy array 'a' that contains n elements, denote by b the set of its unique values ​​in ascending order, denote by m the size of array b. You need to create a numpy array with dimensions $n \\times m$, in each row of which there must be a value of 1 in case it is equal to the value of the given index of array b, in other places it must be 0.\n",
    "\n",
    "> Տրված է numpy զանգված 'a', որը պարունակում է n էլեմենտ, b-ով նշանակենք նրա ունիկալ արժեքների (արժեքներն առանց կրկնության) զանգվածը ըստ աճման կարգի, m-ով նշանակենք b զանգվածի չափը: Հարկավոր է ստեղծել numpy զանգված $n \\times m$ չափերով, որի i-րդ տողի j-րդ սյան տեղում պետք է գրված լինի 1 այն դեպքում, երբ a-ի i-րդ անդամը հավասար է b֊ի j-րդ արժեքին, իսկ մնացած տեղերում պետք է լինեն 0֊ներ։\n",
    "\n",
    "\n",
    "```\n",
    "a = np.array([1, 1, 2, 3, 2, 4])\n",
    "# b = np.array([1, 2, 3, 4])\n",
    "print(convert(a))\n",
    ">>[[1, 0, 0, 0],\n",
    "  [1, 0, 0, 0],\n",
    "  [0, 1, 0, 0],\n",
    "  [0, 0, 1, 0],\n",
    "  [0, 1, 0, 0],\n",
    "  [0, 0, 0, 1]]\n",
    "```\n",
    "\n"
   ]
  },
  {
   "cell_type": "code",
   "execution_count": 98,
   "metadata": {
    "id": "nndj1yZo1LYg"
   },
   "outputs": [],
   "source": [
    "def convert(a):\n",
    "    b=np.unique(a)\n",
    "    c=np.zeros((len(a),len(b)))\n",
    "    for i in range(len(a)):\n",
    "        for j in range(len(b)):\n",
    "            if a[i]==b[j]:\n",
    "                c[i,j]=1\n",
    "    return c            "
   ]
  },
  {
   "cell_type": "code",
   "execution_count": 115,
   "metadata": {
    "id": "3zFithXoQAZm"
   },
   "outputs": [],
   "source": [
    "# Do not modify this cell\n",
    "assert np.all(convert(np.array([0, 0, 2, 3, 2, 4])) ==\n",
    "              [[1, 0, 0, 0],\n",
    "               [1, 0, 0, 0],\n",
    "               [0, 1, 0, 0],\n",
    "               [0, 0, 1, 0],\n",
    "               [0, 1, 0, 0],\n",
    "               [0, 0, 0, 1]])\n",
    "\n",
    "assert np.all(convert(np.array([-np.pi, 9])) ==\n",
    "              [[1, 0],\n",
    "               [0, 1]])\n",
    "\n",
    "assert np.all(convert(np.array([-1, 1, 9, 10])) ==\n",
    "              [[1, 0, 0, 0],\n",
    "               [0, 1, 0, 0],\n",
    "               [0, 0, 1, 0],\n",
    "               [0, 0, 0, 1]])\n",
    "\n",
    "assert np.all(convert(np.array([np.sqrt(2), np.sqrt(2), np.sqrt(2)])) ==\n",
    "              [[1],\n",
    "               [1],\n",
    "               [1]])"
   ]
  },
  {
   "cell_type": "markdown",
   "metadata": {
    "id": "8dbLDnHL1lFz"
   },
   "source": [
    "Problem 4. Given a 2D numpy array 'a' of sizes $n \\times m$. You need to pad the matrix with 0s so that the dimensions of the matrix become  $(n+2n_1) \\times (m+2m_1)$\n",
    ">Տրված է 2D numpy զանգված 'a' $n \\times m$ չափերի, Հարկավոր է կողքերից հավասարաչափ 0-ներ ավելացնել այնպես, որ զանգվածի չափերը դառնան $(n+2n_1) \\times (m+2m_1)$\n",
    "\n",
    "```\n",
    "a = np.array([[1, 1], [1, 1]])\n",
    "n1 = 1\n",
    "m1 = 2\n",
    "print(padding(a, n1, m1))\n",
    ">>[[0, 0, 0, 0, 0, 0], \n",
    "  [0, 0, 1, 1, 0, 0],\n",
    "  [0, 0, 1, 1, 0, 0],\n",
    "  [0, 0, 0, 0, 0, 0]]\n",
    "```\n",
    "\n"
   ]
  },
  {
   "cell_type": "code",
   "execution_count": 113,
   "metadata": {
    "id": "0F2167Kx26lj"
   },
   "outputs": [],
   "source": [
    "def padding(a, n1, m1):\n",
    "    b=np.pad(a,((n1,n1),(m1,m1)))\n",
    "    return b"
   ]
  },
  {
   "cell_type": "code",
   "execution_count": 114,
   "metadata": {
    "id": "hHOL5kChQRCm",
    "scrolled": true
   },
   "outputs": [],
   "source": [
    "# Do not modify this cell\n",
    "assert np.all(padding(np.array([[1, 1], [1, 1]]), 1, 2) ==\n",
    "              [[0, 0, 0, 0, 0, 0],\n",
    "               [0, 0, 1, 1, 0, 0],\n",
    "               [0, 0, 1, 1, 0, 0],\n",
    "               [0, 0, 0, 0, 0, 0]])\n",
    "\n",
    "assert np.all(padding(np.array([[1, 2], [1, 1]]), 0, 2) ==\n",
    "              [[0, 0, 1, 2, 0, 0],\n",
    "               [0, 0, 1, 1, 0, 0]])\n",
    "\n",
    "assert np.all(padding(np.array([[9]]), 2, 2) ==\n",
    "              [[0, 0, 0, 0, 0],\n",
    "               [0, 0, 0, 0, 0],\n",
    "               [0, 0, 9, 0, 0],\n",
    "               [0, 0, 0, 0, 0],\n",
    "               [0, 0, 0, 0, 0]])"
   ]
  },
  {
   "cell_type": "markdown",
   "metadata": {
    "id": "OuFdPfTNm3PW"
   },
   "source": [
    "Problem 5. Given 2D numpy arrays 'a' and 'b' of sizes $m \\times n$ and $k \\times k$ respectively (k <= n, k <= m), 2 integers 'stride' and 'padding' and 'f' function. You need to \n",
    "  1. first pad 'a' matrix with 0s on each side, \n",
    "  2. then move 'b'  over 'a' with stride 'stride', then multiply their elements by the corresponding 'b' elements, \n",
    "  3. add the resulting k * k numbers \n",
    "  4. apply the 'f' function to the result \n",
    "  5. and place them in the new matrix.\n",
    "\n",
    "  Տրված է 2D numpy զանգվածներ 'a' և 'b' համապատասխանաբար $m \\times n$ և $k \\times k$ չափերի (k<=n, k<=m), 2 ամբողջ թվեր 'stride' և 'padding' ու 'f' ֆունկցիա։ Հարկավոր է\n",
    "\n",
    "  1․ 'a' մատրիցին 'padding' չափով 0֊ներ ավելացնել յուրաքանչյուր կողմից,\n",
    "\n",
    "  2․ ապա 'b'֊ն 'stride' քայլով \"շարժել\" 'a'֊ի վրայով և 'a'֊ի համապատասխան էլեմենտները բազմապատկել 'b'-ի համապատասխան էլեմենտներով,\n",
    "\n",
    "  3․ ստացված k*k հատ թվերը գումարել,\n",
    "\n",
    "  4․ արդյունքի վրա կիրառել 'f' ֆունկցիան\n",
    "\n",
    "  5․ և տեղադրել նոր մատրիցում։\n",
    "\n",
    "```\n",
    "a = np.array([[1, 1, 2],\n",
    "              [0, 1, 3],\n",
    "              [1, 3, 0],\n",
    "              [4, 5, 2]])\n",
    "b = np.array([[1, 0],\n",
    "              [0, 1]])\n",
    "\n",
    "stride = 1\n",
    "padding = 0\n",
    "f = lambda x: x**2\n",
    "print(conv(a, b, stride, padding, f))\n",
    ">>[[4, 16],\n",
    "  [9, 1],\n",
    "  [36, 25]]\n",
    "```\n",
    "![ConvUrl](https://miro.medium.com/max/2340/1*Fw-ehcNBR9byHtho-Rxbtw.gif \"conv\")\n"
   ]
  },
  {
   "cell_type": "code",
   "execution_count": null,
   "metadata": {
    "id": "HV6IzuCX5lT1"
   },
   "outputs": [],
   "source": [
    "import numpy as np"
   ]
  },
  {
   "cell_type": "code",
   "execution_count": 199,
   "metadata": {
    "id": "fuEuPmyO4nmI"
   },
   "outputs": [],
   "source": [
    "def conv(a, b, stride, padding, f):\n",
    "    try:\n",
    "        if np.shape(a)[0]<np.shape(b)[0] or np.shape(a)[1]<np.shape(b)[1]:\n",
    "            return \"DimensionError\"\n",
    "        x1=0\n",
    "        x0=0\n",
    "        c=np.pad(a,((padding,padding),(padding,padding)))\n",
    "        v=np.shape(c)[0]\n",
    "        h=np.shape(c)[1]\n",
    "        k=np.shape(b)[0]\n",
    "        \n",
    "        if   k==h:\n",
    "            c=np.pad(a,((0,0),(0,1)))\n",
    "            x1=1\n",
    "        elif k==v:\n",
    "            c=np.pad(a,((0,1),(0,0)))  \n",
    "            x0=1  \n",
    "\n",
    "        v=np.shape(c)[0]\n",
    "        h=np.shape(c)[1]\n",
    "        k=np.shape(b)[0]            \n",
    "\n",
    "        #print(h,v,k)\n",
    "        #print(c)\n",
    "        result=np.zeros( ( 1+(v-k),1+(h-k) ) )\n",
    "\n",
    "        #print(result)\n",
    "        for i in range(0,h-k+1,stride):\n",
    "            for j in range(0,v-k+1,stride):\n",
    "                x=np.sum(c[i:i+k,j:j+k]*b)\n",
    "                #print(f(x))\n",
    "                result[i,j]=f(x)\n",
    "        else:        \n",
    "            if x0==1:result=np.delete(result,-1,0)\n",
    "            elif x1==1: result=np.delete(result,-1,1)\n",
    "\n",
    "        #print (result)                \n",
    "        return result\n",
    "    except:\n",
    "        return \"DimensionError\"\n",
    "    \n",
    "# a = np.array([[1, 1, 2],\n",
    "#               [0, 1, 3],\n",
    "#               [1, 3, 0]])\n",
    "# b = np.array([[1, 0],\n",
    "#               [0, 1]])\n",
    "# f = lambda x: x**2 \n",
    "# stride=1\n",
    "# padding=0\n",
    "# conv(a, b, stride, padding, f)"
   ]
  },
  {
   "cell_type": "code",
   "execution_count": 200,
   "metadata": {
    "id": "oeJv0mheRCst"
   },
   "outputs": [],
   "source": [
    "# Do not modify this cell\n",
    "a = np.array([[1, 1, 2],\n",
    "              [0, 1, 3],\n",
    "              [1, 3, 0]])\n",
    "b = np.array([[1, 0],\n",
    "              [0, 1]])\n",
    "f = lambda x: x**2\n",
    "assert np.all(conv(a, b, 1, 0, f) ==\n",
    "              [[4., 16.],\n",
    "               [9.,  1.]])\n",
    "\n",
    "a = np.array([[1, 1, 2],\n",
    "              [0, 1, 3],\n",
    "              [1, 3, 0],\n",
    "              [-10, -3, 0]])\n",
    "b = np.arange(9).reshape(3, 3)\n",
    "f = lambda x:0 if x<0 else x\n",
    "assert np.all(conv(a, b, 1, 0, f) ==\n",
    "              [[51.],\n",
    "               [0.]])\n",
    "\n",
    "b = np.arange(6).reshape(2, 3)\n",
    "assert conv(a, b, 1, 0, f) == \"DimensionError\""
   ]
  },
  {
   "cell_type": "code",
   "execution_count": null,
   "metadata": {
    "id": "0zeuCoqx6nux"
   },
   "outputs": [],
   "source": [
    "list(range(0, 1, 1))"
   ]
  },
  {
   "cell_type": "markdown",
   "metadata": {
    "id": "Ix9cu39P5Sr1"
   },
   "source": [
    "Problem 6. Given a 2D numpy array 'a' of sizes $m \\times n$ whose each line is labeled with 0 or 1 numbers and a  vector  (of size n) which is not labeled. You need to find the appropriate label for 'b'. In the 'a' matrix, find the line closest to 'b' (according to the Euclidean distance) and label 'b' with the label of that line.\n",
    ">Տրված է $m \\times n$ չափանի 2D numpy զանգված՝ 'a', որի յուրաքանչյուր տող պիտակավորված (label) է 0 կամ 1 թվերով և 'b' վեկտոր (n չափի) որը պիտակավորված չէ։ Հարկավոր է գտնել 'b'֊ի համապատասխան պիտակը (label)՝ գտնելով 'a' մատրիցում 'b'ին ամենամոտ  տողը (ըստ Էվկլիդյան հեռավորության) և 'b'֊ն պիտակավորեք այդ տողի պիտակով։\n",
    "\n",
    "```\n",
    "a = np.array([[1, -2],\n",
    "              [2, 5],\n",
    "              [-3, -10],\n",
    "              [3, 2],\n",
    "              [3, 2],\n",
    "              [0, 1]])\n",
    "labels = np.array([0,1,0,1,1,0])\n",
    "b = np.array([10,10])\n",
    "print(predict_label(a,labels,b))\n",
    ">>1\n",
    "```\n",
    "\n"
   ]
  },
  {
   "cell_type": "code",
   "execution_count": 213,
   "metadata": {
    "id": "6XQ_7GIG80dp"
   },
   "outputs": [],
   "source": [
    "def predict_label(a,labels,b):\n",
    "      \n",
    "    try:\n",
    "        if np.shape(a)[1]!=len(b):return \"DimensionError\"\n",
    "        else:    \n",
    "            v=np.shape(a)[0]\n",
    "            #print(v)\n",
    "            evclide=np.zeros(v)\n",
    "           # print(evclide)\n",
    "\n",
    "            for i in range(v):\n",
    "                evclide[i]=(np.sum  (  (b-a[i,:])**2  )  )**0.5\n",
    "            else:\n",
    "             #   print(evclide)\n",
    "                min=(np.argmin(evclide))  \n",
    "                return labels[min]\n",
    "              #  print(min)\n",
    "    except:\n",
    "        return \"DimensionError\""
   ]
  },
  {
   "cell_type": "code",
   "execution_count": 214,
   "metadata": {
    "id": "lbfSXD2vRGiV"
   },
   "outputs": [],
   "source": [
    "# Do not modify this cell\n",
    "a = np.array([[1, -2],\n",
    "              [2, 5],\n",
    "              [-3, -10],\n",
    "              [3, 2],\n",
    "              [3, 2],\n",
    "              [0, 1]])\n",
    "labels = np.array([0, 1, 0, 1, 1, 0])\n",
    "\n",
    "assert predict_label(a, labels, np.array([10, 10])) == 1\n",
    "assert predict_label(a, labels, np.array([10, -10])) == 0\n",
    "assert predict_label(a, labels, np.array([10, -1])) == 1\n",
    "assert predict_label(a, labels, np.array([1, 1, 0])) == \"DimensionError\"\n",
    "\n",
    "a = np.array([[0, 1, -2],\n",
    "              [2, 1, 5],\n",
    "              [-3, 3.5, -10],\n",
    "              [3, 2, 9],\n",
    "              [3, -2, 9]])\n",
    "labels = np.array([0, 1, 0, 1, 1])\n",
    "assert predict_label(a, labels, np.array([1])) == \"DimensionError\"\n",
    "assert predict_label(a, labels, np.array([1, 1, 0])) == 0\n",
    "assert predict_label(a, labels, np.array([1, 1, 10])) == 1"
   ]
  },
  {
   "cell_type": "markdown",
   "metadata": {
    "id": "Sun6i3oM81VS"
   },
   "source": [
    "Problem 7. Given a 2D numpy array 'a' of sizes $m \\times n$ with missing elements (NAN) and a string 'mode' $\\in$ {\"mean\",\"min\",\"max\"}. You need to write the {\"mean\",\"min\",\"max\"} ('mode') of the corresponding column instead of the missing elements.\n",
    ">Տրված է 2D numpy զանգված 'a' $m \\times n$ չափերի, որն ունի բացակայող էլեմենտներ (NAN) ու տեքստային փոփոխական 'mode' $\\in$ {\"mean\",\"min\",\"max\"}։ Հարկավոր է 'a' մատրիցի բացակայող էլեմենտների փոխարեն գրել համապատասխան սյան {միջինը, մինիմումը, մաքսիմումը} ըստ 'mode' փոփոխականի։\n",
    "\n",
    "```\n",
    "a = np.array([[np.nan, 200, 10],\n",
    "              [2, 110, np.nan],\n",
    "              [0, 120, 11],\n",
    "              [0, 400, np.nan],\n",
    "              [1, np.nan, 9]])\n",
    "mode = \"mean\"\n",
    "print(fill(a, mode))\n",
    ">>[[  0.75 200.    10.  ]\n",
    " [  2.   110.    10.  ]\n",
    " [  0.   120.    11.  ]\n",
    " [  0.   400.    10.  ]\n",
    " [  1.   207.5    9.  ]]\n",
    "```\n",
    "\n"
   ]
  },
  {
   "cell_type": "code",
   "execution_count": 243,
   "metadata": {
    "id": "tN_T-Agz-AiC"
   },
   "outputs": [],
   "source": [
    "def fill(a, mode):\n",
    "    h=np.shape(a)[1]\n",
    "    for i in range(h): \n",
    "        if mode==\"mean\":\n",
    "            np.nan_to_num(a[:,i],False,np.nanmean(a[:,i])) \n",
    "        if mode==\"max\":\n",
    "            np.nan_to_num(a[:,i],False,np.nanmax(a[:,i])) \n",
    "        if mode==\"min\":\n",
    "            np.nan_to_num(a[:,i],False,np.nanmin(a[:,i]))   \n",
    "    else:\n",
    "        print(a)\n",
    "        return a"
   ]
  },
  {
   "cell_type": "code",
   "execution_count": 244,
   "metadata": {
    "id": "YtIl7k8ZRNMV",
    "scrolled": true
   },
   "outputs": [
    {
     "name": "stdout",
     "output_type": "stream",
     "text": [
      "[[  0.75 200.    10.  ]\n",
      " [  2.   110.    10.  ]\n",
      " [  0.   120.    11.  ]\n",
      " [  0.   400.    10.  ]\n",
      " [  1.   207.5    9.  ]]\n",
      "[[  0.75 200.    10.  ]\n",
      " [  2.   110.    10.  ]\n",
      " [  0.   120.    11.  ]\n",
      " [  0.   400.    10.  ]\n",
      " [  1.   207.5    9.  ]]\n"
     ]
    },
    {
     "ename": "AssertionError",
     "evalue": "",
     "output_type": "error",
     "traceback": [
      "\u001b[0;31m---------------------------------------------------------------------------\u001b[0m",
      "\u001b[0;31mAssertionError\u001b[0m                            Traceback (most recent call last)",
      "Cell \u001b[0;32mIn[244], line 15\u001b[0m\n\u001b[1;32m      2\u001b[0m a \u001b[38;5;241m=\u001b[39m np\u001b[38;5;241m.\u001b[39marray([[np\u001b[38;5;241m.\u001b[39mnan, \u001b[38;5;241m200\u001b[39m, \u001b[38;5;241m10\u001b[39m],\n\u001b[1;32m      3\u001b[0m               [\u001b[38;5;241m2\u001b[39m, \u001b[38;5;241m110\u001b[39m, np\u001b[38;5;241m.\u001b[39mnan],\n\u001b[1;32m      4\u001b[0m               [\u001b[38;5;241m0\u001b[39m, \u001b[38;5;241m120\u001b[39m, \u001b[38;5;241m11\u001b[39m],\n\u001b[1;32m      5\u001b[0m               [\u001b[38;5;241m0\u001b[39m, \u001b[38;5;241m400\u001b[39m, np\u001b[38;5;241m.\u001b[39mnan],\n\u001b[1;32m      6\u001b[0m               [\u001b[38;5;241m1\u001b[39m, np\u001b[38;5;241m.\u001b[39mnan, \u001b[38;5;241m9\u001b[39m]])\n\u001b[1;32m      8\u001b[0m \u001b[38;5;28;01massert\u001b[39;00m np\u001b[38;5;241m.\u001b[39mall(fill(a, \u001b[38;5;124m\"\u001b[39m\u001b[38;5;124mmean\u001b[39m\u001b[38;5;124m\"\u001b[39m) \u001b[38;5;241m==\u001b[39m\n\u001b[1;32m      9\u001b[0m               [[\u001b[38;5;241m0.75\u001b[39m, \u001b[38;5;241m200.\u001b[39m,  \u001b[38;5;241m10.\u001b[39m],\n\u001b[1;32m     10\u001b[0m                [\u001b[38;5;241m2.\u001b[39m, \u001b[38;5;241m110.\u001b[39m,  \u001b[38;5;241m10.\u001b[39m],\n\u001b[1;32m     11\u001b[0m                [\u001b[38;5;241m0.\u001b[39m, \u001b[38;5;241m120.\u001b[39m,  \u001b[38;5;241m11.\u001b[39m],\n\u001b[1;32m     12\u001b[0m                [\u001b[38;5;241m0.\u001b[39m, \u001b[38;5;241m400.\u001b[39m,  \u001b[38;5;241m10.\u001b[39m],\n\u001b[1;32m     13\u001b[0m                [\u001b[38;5;241m1.\u001b[39m, \u001b[38;5;241m207.5\u001b[39m,   \u001b[38;5;241m9.\u001b[39m]])\n\u001b[0;32m---> 15\u001b[0m \u001b[38;5;28;01massert\u001b[39;00m np\u001b[38;5;241m.\u001b[39mall(fill(a, \u001b[38;5;124m\"\u001b[39m\u001b[38;5;124mmin\u001b[39m\u001b[38;5;124m\"\u001b[39m) \u001b[38;5;241m==\u001b[39m\n\u001b[1;32m     16\u001b[0m               [[\u001b[38;5;241m0.\u001b[39m, \u001b[38;5;241m200.\u001b[39m,  \u001b[38;5;241m10.\u001b[39m],\n\u001b[1;32m     17\u001b[0m                [\u001b[38;5;241m2.\u001b[39m, \u001b[38;5;241m110.\u001b[39m,   \u001b[38;5;241m9.\u001b[39m],\n\u001b[1;32m     18\u001b[0m                [\u001b[38;5;241m0.\u001b[39m, \u001b[38;5;241m120.\u001b[39m,  \u001b[38;5;241m11.\u001b[39m],\n\u001b[1;32m     19\u001b[0m                [\u001b[38;5;241m0.\u001b[39m, \u001b[38;5;241m400.\u001b[39m,   \u001b[38;5;241m9.\u001b[39m],\n\u001b[1;32m     20\u001b[0m                [\u001b[38;5;241m1.\u001b[39m, \u001b[38;5;241m110.\u001b[39m,   \u001b[38;5;241m9.\u001b[39m]])\n\u001b[1;32m     22\u001b[0m \u001b[38;5;28;01massert\u001b[39;00m np\u001b[38;5;241m.\u001b[39mall(fill(a, \u001b[38;5;124m\"\u001b[39m\u001b[38;5;124mmax\u001b[39m\u001b[38;5;124m\"\u001b[39m) \u001b[38;5;241m==\u001b[39m\n\u001b[1;32m     23\u001b[0m               [[\u001b[38;5;241m2.\u001b[39m, \u001b[38;5;241m200.\u001b[39m,  \u001b[38;5;241m10.\u001b[39m],\n\u001b[1;32m     24\u001b[0m                [\u001b[38;5;241m2.\u001b[39m, \u001b[38;5;241m110.\u001b[39m,  \u001b[38;5;241m11.\u001b[39m],\n\u001b[1;32m     25\u001b[0m                [\u001b[38;5;241m0.\u001b[39m, \u001b[38;5;241m120.\u001b[39m,  \u001b[38;5;241m11.\u001b[39m],\n\u001b[1;32m     26\u001b[0m                [\u001b[38;5;241m0.\u001b[39m, \u001b[38;5;241m400.\u001b[39m,  \u001b[38;5;241m11.\u001b[39m],\n\u001b[1;32m     27\u001b[0m                [\u001b[38;5;241m1.\u001b[39m, \u001b[38;5;241m400.\u001b[39m,   \u001b[38;5;241m9.\u001b[39m]])\n",
      "\u001b[0;31mAssertionError\u001b[0m: "
     ]
    }
   ],
   "source": [
    "# Do not modify this cell\n",
    "a = np.array([[np.nan, 200, 10],\n",
    "              [2, 110, np.nan],\n",
    "              [0, 120, 11],\n",
    "              [0, 400, np.nan],\n",
    "              [1, np.nan, 9]])\n",
    "\n",
    "assert np.all(fill(a, \"mean\") ==\n",
    "              [[0.75, 200.,  10.],\n",
    "               [2., 110.,  10.],\n",
    "               [0., 120.,  11.],\n",
    "               [0., 400.,  10.],\n",
    "               [1., 207.5,   9.]])\n",
    "\n",
    "assert np.all(fill(a, \"min\") ==\n",
    "              [[0., 200.,  10.],\n",
    "               [2., 110.,   9.],\n",
    "               [0., 120.,  11.],\n",
    "               [0., 400.,   9.],\n",
    "               [1., 110.,   9.]])\n",
    "\n",
    "assert np.all(fill(a, \"max\") ==\n",
    "              [[2., 200.,  10.],\n",
    "               [2., 110.,  11.],\n",
    "               [0., 120.,  11.],\n",
    "               [0., 400.,  11.],\n",
    "               [1., 400.,   9.]])"
   ]
  },
  {
   "cell_type": "markdown",
   "metadata": {
    "id": "u7qWg2sf_Hzg"
   },
   "source": [
    "Problem 8. Given a numpy matrix 'A' of sizes $n \\times n$ and a numpy vector 'b' of size n. You need to calculate the value of the expression\n",
    "$${1\\over2}\\mathbf{b}^TA^{-1}\\mathbf{b}*\\prod_{i}\\lambda_i ;\\text{ where  $\\lambda_i$  are eigenvalues of }A$$\n",
    "\n",
    ">Տրված է numpy մատրից 'A' $n \\times n$ չափերի և numpy վեկտոր 'b' n չափի։ Հարկավոր է հաշվել հետևյալ արտահայտության արժեքը։\n",
    "$${1\\over2}\\mathbf{b}^TA^{-1}\\mathbf{b}*\\prod_{i}\\lambda_i ; \\text{ որտեղ $\\lambda_i$֊երը A-ի սեփական արժեքներն են}$$\n",
    "\n",
    "```\n",
    "a = np.array([[1, 1, 2],\n",
    "              [0, 1, 3],\n",
    "              [1, 3, 0]])\n",
    "b = np.array([1, 0, 1])\n",
    "print(calc(a, b))\n",
    ">>-4.000000000000002\n",
    "```\n"
   ]
  },
  {
   "cell_type": "code",
   "execution_count": null,
   "metadata": {
    "id": "h9rzRkL3_HL3"
   },
   "outputs": [],
   "source": [
    "def calc(a, b):\n",
    "  #your code here"
   ]
  },
  {
   "cell_type": "code",
   "execution_count": null,
   "metadata": {
    "id": "YRx66dcJRSad"
   },
   "outputs": [],
   "source": [
    "# Do not modify this cell\n",
    "a = np.array([[1, 1, 2],\n",
    "              [0, 1, 3],\n",
    "              [1, 3, 0]])\n",
    "b = np.array([1, 0, 1])\n",
    "assert round(calc(a, b)) == -4\n",
    "\n",
    "a = np.array([[1, 1, 2],\n",
    "              [0, 1, 3],\n",
    "              [1, 3, 0]])\n",
    "b = np.array([1, 0, 1, 1])\n",
    "assert calc(a, b) == \"DimensionError\"\n",
    "\n",
    "a = np.array([[1, 1, 2],\n",
    "              [1, 1, 3],\n",
    "              [3, 3, 0]])\n",
    "b = np.array([1, 0, 1])\n",
    "assert calc(a, b) == \"NotInvertableError\"\n",
    "\n",
    "a = np.array([[10, 1],\n",
    "              [-1, 1]])\n",
    "b = np.array([1, 1])\n",
    "assert round(calc(a, b), 2) == 5.5"
   ]
  },
  {
   "cell_type": "markdown",
   "metadata": {
    "id": "9qEBpp7fJJNW"
   },
   "source": [
    "Problem 9. Given a numpy matrix 'a' of sizes $m \\times n$ and the numbers 'k' and 'q' in the range [0,1]. You need to randomly select the 'k' part of the rows of 'a' (can be repeated) and the 'q' part of their columns (should not be repeated).\n",
    ">Տրված է numpy մատրից 'a' $m \\times n$ չափերի և [0,1] միջակայքի 'k' և 'q' թվեր։ Հարկավոր է պատահականորեն ընտրել 'a'ի տողերի 'k' մասը (կարող են կրկնվել) և դրանց սյուների 'q' մասը (չպետք է կրկնվեն)։\n",
    "\n",
    "```\n",
    "a = np.array([[1, 1, 2],\n",
    "              [0, 108, 3],\n",
    "              [1, 3, 65],\n",
    "              [50, 35, 5],\n",
    "              [5, 83, 110],\n",
    "              [98, 99, 10],\n",
    "              [8, 9, 103],\n",
    "              [9, 23, 15]])\n",
    "k = 0.25\n",
    "q = 0.6\n",
    "print(rand_rows_cols(a, k, q))\n",
    ">>[[83, 110],\n",
    "  [3, 65]]\n",
    "```\n"
   ]
  },
  {
   "cell_type": "code",
   "execution_count": null,
   "metadata": {
    "id": "mf-1UJMuQF6w"
   },
   "outputs": [],
   "source": [
    "def rand_rows_cols(a, k, q):\n",
    "  #your code here"
   ]
  },
  {
   "cell_type": "code",
   "execution_count": null,
   "metadata": {
    "id": "6lxX0oJ-RZHM"
   },
   "outputs": [],
   "source": [
    "# Do not modify this cell\n",
    "a = np.array([[1, 1, 2],\n",
    "              [0, 108, 3],\n",
    "              [1, 3, 65],\n",
    "              [50, 35, 5],\n",
    "              [5, 83, 110],\n",
    "              [98, 99, 10],\n",
    "              [8, 9, 103],\n",
    "              [9, 23, 15]])\n",
    "k = 0.25\n",
    "q = 0.6\n",
    "\n",
    "for _ in range(100):\n",
    "    x1 = rand_rows_cols(a, k, q)\n",
    "    assert x1.shape == (2, 2)"
   ]
  },
  {
   "cell_type": "markdown",
   "metadata": {
    "id": "DTKtvW_xQE2e"
   },
   "source": [
    "Problem 10. Given a numpy matrix 'a' of sizes $m \\times n$. You need to find the rows of 'a' whose sum of elements is in the range [100,200).\n",
    ">Տրված է $m \\times n$ չափերի numpy մատրից 'a'։ Հարկավոր է գտնել 'a'-ի այն տողերը՝ որոնց էլեմենտների գումարը գտնվում է [100,200) միջակայքում։\n",
    "\n",
    "```\n",
    "a = np.array([[1, 1, 2],\n",
    "              [0, 108, 3],\n",
    "              [1, 3, 65],\n",
    "              [50, 35, 5],\n",
    "              [5, 83, 110],\n",
    "              [98, 99, 10],\n",
    "              [8, 9, 103],\n",
    "              [9, 23, 15]])\n",
    "print(between_100_200(a))\n",
    ">[[0, 108, 3],\n",
    "  [5, 83, 110],\n",
    "  [8, 9, 103]]\n",
    "```\n"
   ]
  },
  {
   "cell_type": "code",
   "execution_count": 249,
   "metadata": {
    "id": "l8hqApf5RF4F"
   },
   "outputs": [],
   "source": [
    "def between_100_200(a):\n",
    "    #b=np.array([,])\n",
    "    v=np.shape(a)[0]\n",
    "    h=np.shape(a)[1]\n",
    "    b=np.zeros(h)\n",
    "    for i in range(v):\n",
    "        if 100<sum(a[i,:])<200:\n",
    "            b=np.append(b,a[i,:])\n",
    "    else:\n",
    "        return b.reshape((-1,h))[1:]\n",
    "    #return np.dot(a,a.T)"
   ]
  },
  {
   "cell_type": "code",
   "execution_count": 250,
   "metadata": {
    "id": "gTJFLL4mRoDd"
   },
   "outputs": [],
   "source": [
    "# Do not modify this cell\n",
    "a = np.array([[1, 1, 2],\n",
    "              [0, 108, 3],\n",
    "              [1, 3, 65],\n",
    "              [50, 35, 5],\n",
    "              [5, 83, 110],\n",
    "              [98, 99, 10],\n",
    "              [8, 9, 103],\n",
    "              [9, 23, 15]])\n",
    "assert np.all(between_100_200(a) ==\n",
    "              [[0, 108,   3],\n",
    "               [5,  83, 110],\n",
    "               [8,   9, 103]])\n",
    "\n",
    "a = np.array([[1, 1, 2],\n",
    "              [0, -108, 3],\n",
    "              [1, 3, 65],\n",
    "              [50, 35, 5]])\n",
    "assert len(between_100_200(a)) == 0"
   ]
  },
  {
   "cell_type": "markdown",
   "metadata": {
    "id": "zDqPZXfTeTCE"
   },
   "source": [
    "Problem 11. Get the L in the Cholesky decomposition of x.\n",
    "\n",
    "> Գտիր x-ի Չոլեսկու դեկոմպոզիցիայի L-ը:\n",
    "\n",
    "\n",
    "```\n",
    "x = np.array([[4, 12, -16], [12, 37, -43], [-16, -43, 98]], dtype=np.int32)\n",
    "print(Cholesky(x))\n",
    ">>[[ 2.  0.  0.]\n",
    " [ 6.  1.  0.]\n",
    " [-8.  5.  3.]]\n",
    "```\n",
    "\n"
   ]
  },
  {
   "cell_type": "code",
   "execution_count": 262,
   "metadata": {
    "id": "BviJ4WBsezUw"
   },
   "outputs": [],
   "source": [
    "def Cholesky(a):\n",
    "    #print(a)\n",
    "    v=np.shape(a)[0]\n",
    "    h=np.shape(a)[1]\n",
    "    l=np.zeros((v,h))\n",
    "    \n",
    "    l[0,0]=np.sqrt(a[0,0])\n",
    "\n",
    "    for i in range(1,v):\n",
    "        l[i,0]=a[i,0]/l[0,0]\n",
    "    \n",
    "    l[1,1]=np.sqrt(a[1,1]-(l[1,0]**2))\n",
    "\n",
    "    l[2,1]=(a[2,1]-l[1,0]*l[2,0])/l[1,1]\n",
    "\n",
    "    l[2,2]=np.sqrt(a[2,2]-(l[2,0]**2+l[2,1]**2))\n",
    "    return l"
   ]
  },
  {
   "cell_type": "code",
   "execution_count": 263,
   "metadata": {
    "id": "kKl8RBEpRu_F",
    "scrolled": false
   },
   "outputs": [],
   "source": [
    "# Do not modify this cell\n",
    "x = np.array([[4, 12, -16], [12, 37, -43], [-16, -43, 98]])\n",
    "assert np.all(Cholesky(x) ==\n",
    "              [[2.,  0.,  0.],\n",
    "               [6.,  1.,  0.],\n",
    "               [-8.,  5.,  3.]])"
   ]
  },
  {
   "cell_type": "markdown",
   "metadata": {
    "id": "XQPJDITsLvQh"
   },
   "source": [
    "Problem 12. Write a function to return a 2d array of given size with 1s on the border and 0s inside. \n",
    "\n",
    "Գրել ֆունկցիա, որը կվերադարձնի տրված չափանի երկչափ numpy array (քառակուսի մատրից), որտեղ եզրերում կլինեն 1-եր, իսկ ներսում՝ 0-ներ։  \n",
    "\n"
   ]
  },
  {
   "cell_type": "code",
   "execution_count": 254,
   "metadata": {
    "id": "bNXPkyjZLvab"
   },
   "outputs": [],
   "source": [
    "def zero_one(x):\n",
    "    a=np.zeros((x,x))\n",
    "    a[0,:]=1\n",
    "    a[-1,:]=1\n",
    "    a[:,0]=1\n",
    "    a[:,-1]=1\n",
    "    return a\n",
    "    #b=np.pad(a,((1,1),(1,1)))"
   ]
  },
  {
   "cell_type": "code",
   "execution_count": 255,
   "metadata": {
    "id": "1aVhczlCL08R"
   },
   "outputs": [],
   "source": [
    "assert np.array_equal(zero_one(3), np.array([[1., 1., 1.],\n",
    "                                            [1., 0., 1.],\n",
    "                                            [1., 1., 1.]]))\n",
    "assert np.array_equal(zero_one(4), np.array([[1., 1., 1., 1],\n",
    "                                            [1., 0., 0., 1],\n",
    "                                            [1., 0., 0., 1],\n",
    "                                            [1., 1., 1., 1]]))"
   ]
  }
 ],
 "metadata": {
  "colab": {
   "provenance": [
    {
     "file_id": "1mMByK9vWVZO8-tFUgOKCBSA_ZlhBQXnu",
     "timestamp": 1669904954457
    },
    {
     "file_id": "1G8x68SMa2zSu71Xww07aF72UWTYYTASt",
     "timestamp": 1660708988175
    }
   ]
  },
  "kernelspec": {
   "display_name": "Python 3 (ipykernel)",
   "language": "python",
   "name": "python3"
  },
  "language_info": {
   "codemirror_mode": {
    "name": "ipython",
    "version": 3
   },
   "file_extension": ".py",
   "mimetype": "text/x-python",
   "name": "python",
   "nbconvert_exporter": "python",
   "pygments_lexer": "ipython3",
   "version": "3.10.6"
  }
 },
 "nbformat": 4,
 "nbformat_minor": 1
}
